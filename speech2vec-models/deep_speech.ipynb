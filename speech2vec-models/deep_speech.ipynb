{
 "cells": [
  {
   "cell_type": "code",
   "execution_count": 12,
   "metadata": {
    "colab": {
     "base_uri": "https://localhost:8080/"
    },
    "id": "53fN3yjtJOQW",
    "outputId": "8d0b11dc-ed33-487b-8e80-b37fb7e93023"
   },
   "outputs": [
    {
     "name": "stdout",
     "output_type": "stream",
     "text": [
      "Requirement already satisfied: deepspeech in /usr/local/lib/python3.7/dist-packages (0.9.3)\n",
      "Requirement already satisfied: numpy>=1.14.5 in /usr/local/lib/python3.7/dist-packages (from deepspeech) (1.19.5)\n",
      "  % Total    % Received % Xferd  Average Speed   Time    Time     Time  Current\n",
      "                                 Dload  Upload   Total   Spent    Left  Speed\n",
      "100   634  100   634    0     0   8684      0 --:--:-- --:--:-- --:--:--  8805\n",
      "100  180M  100  180M    0     0  80.6M      0  0:00:02  0:00:02 --:--:-- 81.3M\n",
      "  % Total    % Received % Xferd  Average Speed   Time    Time     Time  Current\n",
      "                                 Dload  Upload   Total   Spent    Left  Speed\n",
      "100   667  100   667    0     0   8337      0 --:--:-- --:--:-- --:--:--  8337\n",
      "100  909M  100  909M    0     0  91.7M      0  0:00:09  0:00:09 --:--:--  176M\n",
      "  % Total    % Received % Xferd  Average Speed   Time    Time     Time  Current\n",
      "                                 Dload  Upload   Total   Spent    Left  Speed\n",
      "100   655  100   655    0     0   3786      0 --:--:-- --:--:-- --:--:--  3786\n",
      "100  194k  100  194k    0     0   857k      0 --:--:-- --:--:-- --:--:--  857k\n",
      "._audio\n",
      "audio/\n",
      "audio/._2830-3980-0043.wav\n",
      "audio/2830-3980-0043.wav\n",
      "audio/._Attribution.txt\n",
      "audio/Attribution.txt\n",
      "audio/._4507-16021-0012.wav\n",
      "audio/4507-16021-0012.wav\n",
      "audio/._8455-210777-0068.wav\n",
      "audio/8455-210777-0068.wav\n",
      "audio/._License.txt\n",
      "audio/License.txt\n",
      "total 260\n",
      "-rw-r--r-- 1 501 staff 63244 Nov 18  2017 2830-3980-0043.wav\n",
      "-rw-r--r-- 1 501 staff 87564 Nov 18  2017 4507-16021-0012.wav\n",
      "-rw-r--r-- 1 501 staff 82924 Nov 18  2017 8455-210777-0068.wav\n",
      "-rw-r--r-- 1 501 staff   340 May 14  2018 Attribution.txt\n",
      "-rw-r--r-- 1 501 staff 18652 May 12  2018 License.txt\n"
     ]
    }
   ],
   "source": [
    "!pip install deepspeech\n",
    "\n",
    "!curl -LO https://github.com/mozilla/DeepSpeech/releases/download/v0.9.3/deepspeech-0.9.3-models.pbmm\n",
    "!curl -LO https://github.com/mozilla/DeepSpeech/releases/download/v0.9.3/deepspeech-0.9.3-models.scorer\n",
    "\n",
    "!curl -LO https://github.com/mozilla/DeepSpeech/releases/download/v0.9.3/audio-0.9.3.tar.gz\n",
    "!tar xvf audio-0.9.3.tar.gz\n",
    "!ls -l ./audio/\n",
    "\n"
   ]
  },
  {
   "cell_type": "code",
   "execution_count": 13,
   "metadata": {
    "colab": {
     "base_uri": "https://localhost:8080/"
    },
    "id": "o1u2dnzGOFFC",
    "outputId": "2b60460d-2986-4c13-dcef-9224dc3387a9"
   },
   "outputs": [
    {
     "name": "stdout",
     "output_type": "stream",
     "text": [
      "Requirement already satisfied: pysoundfile in /usr/local/lib/python3.7/dist-packages (0.9.0.post1)\n",
      "Requirement already satisfied: cffi>=0.6 in /usr/local/lib/python3.7/dist-packages (from pysoundfile) (1.14.6)\n",
      "Requirement already satisfied: pycparser in /usr/local/lib/python3.7/dist-packages (from cffi>=0.6->pysoundfile) (2.20)\n",
      "Reading package lists... Done\n",
      "Building dependency tree       \n",
      "Reading state information... Done\n",
      "libportaudio2 is already the newest version (19.6.0-1).\n",
      "libportaudiocpp0 is already the newest version (19.6.0-1).\n",
      "portaudio19-dev is already the newest version (19.6.0-1).\n",
      "libasound2-dev is already the newest version (1.1.3-5ubuntu0.6).\n",
      "0 upgraded, 0 newly installed, 0 to remove and 37 not upgraded.\n",
      "Requirement already satisfied: pyaudio in /usr/local/lib/python3.7/dist-packages (0.2.11)\n",
      "Requirement already satisfied: pydub in /usr/local/lib/python3.7/dist-packages (0.25.1)\n",
      "Requirement already satisfied: ffmpeg-python in /usr/local/lib/python3.7/dist-packages (0.2.0)\n",
      "Requirement already satisfied: future in /usr/local/lib/python3.7/dist-packages (from ffmpeg-python) (0.16.0)\n"
     ]
    }
   ],
   "source": [
    "!pip install pysoundfile\n",
    "!apt install libasound2-dev portaudio19-dev libportaudio2 libportaudiocpp0\n",
    "!pip install pyaudio\n",
    "!pip install pydub\n",
    "!pip install ffmpeg-python"
   ]
  },
  {
   "cell_type": "code",
   "execution_count": null,
   "metadata": {
    "id": "PQrnmkn3RfqK"
   },
   "outputs": [],
   "source": [
    "from deepspeech import Model\n",
    "from IPython.display import Audio\n",
    "import numpy as np\n",
    "import os\n",
    "import wave\n",
    "import librosa\n",
    "import soundfile\n",
    "import pyaudio"
   ]
  },
  {
   "cell_type": "code",
   "execution_count": null,
   "metadata": {
    "id": "CPlWvekrT6wk"
   },
   "outputs": [],
   "source": [
    "def read_wav_file(filename):\n",
    "    with wave.open(filename, 'rb') as w:\n",
    "        rate = w.getframerate()\n",
    "        frames = w.getnframes()\n",
    "        buffer = w.readframes(frames)\n",
    "        print(\"Rate:\", rate)\n",
    "        print(\"Frames:\", frames)\n",
    "        print(\"Buffer Len:\", len(buffer))\n",
    "\n",
    "    return buffer, rate"
   ]
  },
  {
   "cell_type": "code",
   "execution_count": 16,
   "metadata": {
    "id": "_tTX5gaPUva1"
   },
   "outputs": [],
   "source": [
    "def transcribe_batch(audio_file):\n",
    "    model_file_path = \"/content/deepspeech-0.9.3-models.pbmm\"\n",
    "    lm_file_path = \"/content/deepspeech-0.9.3-models.scorer\"\n",
    "    beam_width = 100\n",
    "    lm_alpha = 0.93\n",
    "    lm_beta = 1.18\n",
    "\n",
    "    model = Model(model_file_path)\n",
    "    model.enableExternalScorer(lm_file_path)\n",
    "\n",
    "    model.setScorerAlphaBeta(lm_alpha, lm_beta)\n",
    "    model.setBeamWidth(beam_width)\n",
    "\n",
    "    buffer, rate = read_wav_file(audio_file)\n",
    "    data16 = np.frombuffer(buffer, dtype=np.int16)\n",
    "    return model.stt(data16)"
   ]
  },
  {
   "cell_type": "code",
   "execution_count": 17,
   "metadata": {
    "id": "cQg4P411kpnT"
   },
   "outputs": [],
   "source": [
    "from IPython.display import HTML, Audio\n",
    "from google.colab.output import eval_js\n",
    "from base64 import b64decode\n",
    "import numpy as np\n",
    "from scipy.io.wavfile import read as wav_read\n",
    "import io\n",
    "import ffmpeg\n",
    "\n",
    "AUDIO_HTML = \"\"\"\n",
    "<script>\n",
    "var my_div = document.createElement(\"DIV\");\n",
    "var my_p = document.createElement(\"P\");\n",
    "var my_btn = document.createElement(\"BUTTON\");\n",
    "var t = document.createTextNode(\"Press to start recording\");\n",
    "\n",
    "my_btn.appendChild(t);\n",
    "//my_p.appendChild(my_btn);\n",
    "my_div.appendChild(my_btn);\n",
    "document.body.appendChild(my_div);\n",
    "\n",
    "var base64data = 0;\n",
    "var reader;\n",
    "var recorder, gumStream;\n",
    "var recordButton = my_btn;\n",
    "\n",
    "var handleSuccess = function(stream) {\n",
    "  gumStream = stream;\n",
    "  var options = {\n",
    "    //bitsPerSecond: 8000, //chrome seems to ignore, always 48k\n",
    "    mimeType : 'audio/webm;codecs=opus'\n",
    "    //mimeType : 'audio/webm;codecs=pcm'\n",
    "  };            \n",
    "  //recorder = new MediaRecorder(stream, options);\n",
    "  recorder = new MediaRecorder(stream);\n",
    "  recorder.ondataavailable = function(e) {            \n",
    "    var url = URL.createObjectURL(e.data);\n",
    "    var preview = document.createElement('audio');\n",
    "    preview.controls = true;\n",
    "    preview.src = url;\n",
    "    document.body.appendChild(preview);\n",
    "\n",
    "    reader = new FileReader();\n",
    "    reader.readAsDataURL(e.data); \n",
    "    reader.onloadend = function() {\n",
    "      base64data = reader.result;\n",
    "      //console.log(\"Inside FileReader:\" + base64data);\n",
    "    }\n",
    "  };\n",
    "  recorder.start();\n",
    "  };\n",
    "\n",
    "recordButton.innerText = \"Recording... press to stop\";\n",
    "\n",
    "navigator.mediaDevices.getUserMedia({audio: true}).then(handleSuccess);\n",
    "\n",
    "\n",
    "function toggleRecording() {\n",
    "  if (recorder && recorder.state == \"recording\") {\n",
    "      recorder.stop();\n",
    "      gumStream.getAudioTracks()[0].stop();\n",
    "      recordButton.innerText = \"Saving the recording... pls wait!\"\n",
    "  }\n",
    "}\n",
    "\n",
    "// https://stackoverflow.com/a/951057\n",
    "function sleep(ms) {\n",
    "  return new Promise(resolve => setTimeout(resolve, ms));\n",
    "}\n",
    "\n",
    "var data = new Promise(resolve=>{\n",
    "recordButton.addEventListener(\"click\", toggleRecording);\n",
    "recordButton.onclick = ()=>{\n",
    "toggleRecording()\n",
    "\n",
    "sleep(2000).then(() => {\n",
    "  // wait 2000ms for the data to be available...\n",
    "  // ideally this should use something like await...\n",
    "  //console.log(\"Inside data:\" + base64data)\n",
    "  resolve(base64data.toString())\n",
    "\n",
    "});\n",
    "\n",
    "}\n",
    "});\n",
    "      \n",
    "</script>\n",
    "\"\"\"\n"
   ]
  },
  {
   "cell_type": "code",
   "execution_count": 18,
   "metadata": {
    "id": "zKxDme-dt5Uz"
   },
   "outputs": [],
   "source": [
    "def get_mic():\n",
    "  display(HTML(AUDIO_HTML))\n",
    "  data = eval_js(\"data\")\n",
    "  binary = b64decode(data.split(',')[1])\n",
    "  \n",
    "  process = (ffmpeg\n",
    "    .input('pipe:0')\n",
    "    .output('pipe:1', format='wav')\n",
    "    .run_async(pipe_stdin=True, pipe_stdout=True, pipe_stderr=True, quiet=True, overwrite_output=True)\n",
    "  )\n",
    "  output, err = process.communicate(input=binary)\n",
    "  \n",
    "  riff_chunk_size = len(output) - 8\n",
    "  # Break up the chunk size into four bytes, held in b.\n",
    "  q = riff_chunk_size\n",
    "  b = []\n",
    "  for i in range(4):\n",
    "      q, r = divmod(q, 256)\n",
    "      b.append(r)\n",
    "\n",
    "  # Replace bytes 4:8 in proc.stdout with the actual size of the RIFF chunk.\n",
    "  riff = output[:4] + bytes(b) + output[8:]\n",
    "\n",
    "  sr, audio = wav_read(io.BytesIO(riff))\n",
    "\n",
    "  return audio, sr"
   ]
  },
  {
   "cell_type": "code",
   "execution_count": 19,
   "metadata": {
    "id": "5wCcK23oznh3"
   },
   "outputs": [],
   "source": [
    "def get_audio():\n",
    "    play, rate = get_mic()\n",
    "    soundfile.write(\"/content/mic_result.wav\", data = play, samplerate = rate)\n",
    "\n",
    "    if rate != 16000:\n",
    "      audio, sr = librosa.load('/content/mic_result.wav', sr=16000)\n",
    "      soundfile.write(\"/content/mic_result.wav\", data = audio, samplerate = sr)\n",
    "    \n",
    "      transcript = transcribe_batch(\"/content/mic_result.wav\")\n",
    "\n",
    "      return transcript\n",
    "    \n",
    "    else:\n",
    "      transcript = transcribe_batch(\"/content/mic_result.wav\")\n",
    "    \n",
    "    return transcript"
   ]
  },
  {
   "cell_type": "code",
   "execution_count": null,
   "metadata": {
    "id": "aairQ_yQi-Hn"
   },
   "outputs": [],
   "source": []
  }
 ],
 "metadata": {
  "colab": {
   "collapsed_sections": [],
   "name": "deep-speech.ipynb",
   "provenance": []
  },
  "kernelspec": {
   "display_name": "Python 3 (ipykernel)",
   "language": "python",
   "name": "python3"
  },
  "language_info": {
   "codemirror_mode": {
    "name": "ipython",
    "version": 3
   },
   "file_extension": ".py",
   "mimetype": "text/x-python",
   "name": "python",
   "nbconvert_exporter": "python",
   "pygments_lexer": "ipython3",
   "version": "3.8.12"
  }
 },
 "nbformat": 4,
 "nbformat_minor": 1
}
