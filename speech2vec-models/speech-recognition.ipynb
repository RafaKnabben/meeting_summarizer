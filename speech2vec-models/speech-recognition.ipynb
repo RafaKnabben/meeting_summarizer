{
 "cells": [
  {
   "cell_type": "code",
   "execution_count": 1,
   "id": "d3999a35",
   "metadata": {},
   "outputs": [],
   "source": [
    "from os import path\n",
    "import speech_recognition as sr\n",
    "from pydub import AudioSegment\n",
    "import scipy.io.wavfile as wav\n",
    "import wave\n",
    "import contextlib\n",
    "\n",
    "import time\n",
    "from IPython import display\n",
    "import ffmpeg"
   ]
  },
  {
   "cell_type": "code",
   "execution_count": 2,
   "id": "cf89e230",
   "metadata": {},
   "outputs": [],
   "source": [
    "def length_wav(path_file):\n",
    "    fname = path_file\n",
    "    with contextlib.closing(wave.open(fname,'r')) as f:\n",
    "        frames = f.getnframes()\n",
    "        rate = f.getframerate()\n",
    "        length = frames / float(rate)\n",
    "        return int(length)"
   ]
  },
  {
   "cell_type": "code",
   "execution_count": 3,
   "id": "d2c2c6eb",
   "metadata": {},
   "outputs": [],
   "source": [
    "def get_transcript(path_file):\n",
    "\n",
    "    r = sr.Recognizer()\n",
    "    audio = sr.AudioFile(path_file)\n",
    "    \n",
    "    length = length_wav(path_file)\n",
    "    num_parts = length / 200\n",
    "\n",
    "    if length < 200:\n",
    "        with audio as source:\n",
    "            audio = r.adjust_for_ambient_noise(source)\n",
    "            audio = r.record(source)\n",
    "        transcript = r.recognize_google(audio)\n",
    "    else:\n",
    "        arr1 = []\n",
    "        arr2 = []\n",
    "        for num in range(1, round(num_parts) + 1):\n",
    "            arr1.append(f\"audio_{num}\")\n",
    "\n",
    "        with audio as source:\n",
    "            for num in range(0, len(arr1)):\n",
    "                arr1[num] = r.adjust_for_ambient_noise(source)\n",
    "                arr1[num] = r.record(source, duration = 200)\n",
    "                arr2.append(r.recognize_google(arr1[num]))\n",
    "\n",
    "        transcript = \"\"\n",
    "        for i in range(0, len(arr2)):\n",
    "            transcript = transcript + f\" {arr2[i]}\"\n",
    "\n",
    "    return transcript"
   ]
  },
  {
   "cell_type": "code",
   "execution_count": 9,
   "id": "da2db8cc",
   "metadata": {},
   "outputs": [],
   "source": [
    "def get_mic(silence_length):\n",
    "    r = sr.Recognizer()\n",
    "    r.pause_threshold = silence_length\n",
    "\n",
    "    mic = sr.Microphone()\n",
    "\n",
    "    with mic as source:\n",
    "        audio = r.adjust_for_ambient_noise(source, duration = 0.5)\n",
    "        audio = r.listen(source)\n",
    "    \n",
    "    with open(\"data/microphone_results.wav\", \"wb\") as f:\n",
    "        f.write(audio.get_wav_data())\n",
    "        \n",
    "    transcript = get_transcript(\"data/microphone_results.wav\")\n",
    "    \n",
    "    return transcript"
   ]
  },
  {
   "cell_type": "code",
   "execution_count": 11,
   "id": "b1c58694",
   "metadata": {},
   "outputs": [
    {
     "ename": "UnknownValueError",
     "evalue": "",
     "output_type": "error",
     "traceback": [
      "\u001b[0;31m---------------------------------------------------------------------------\u001b[0m",
      "\u001b[0;31mUnknownValueError\u001b[0m                         Traceback (most recent call last)",
      "\u001b[0;32m/var/folders/x4/wcbcm0j14l30ls1jk1jrdnjm0000gn/T/ipykernel_91723/3197257534.py\u001b[0m in \u001b[0;36m<module>\u001b[0;34m\u001b[0m\n\u001b[0;32m----> 1\u001b[0;31m \u001b[0mget_mic\u001b[0m\u001b[0;34m(\u001b[0m\u001b[0;36m3\u001b[0m\u001b[0;34m)\u001b[0m\u001b[0;34m\u001b[0m\u001b[0;34m\u001b[0m\u001b[0m\n\u001b[0m",
      "\u001b[0;32m/var/folders/x4/wcbcm0j14l30ls1jk1jrdnjm0000gn/T/ipykernel_91723/707730029.py\u001b[0m in \u001b[0;36mget_mic\u001b[0;34m(silence_length)\u001b[0m\n\u001b[1;32m     12\u001b[0m         \u001b[0mf\u001b[0m\u001b[0;34m.\u001b[0m\u001b[0mwrite\u001b[0m\u001b[0;34m(\u001b[0m\u001b[0maudio\u001b[0m\u001b[0;34m.\u001b[0m\u001b[0mget_wav_data\u001b[0m\u001b[0;34m(\u001b[0m\u001b[0;34m)\u001b[0m\u001b[0;34m)\u001b[0m\u001b[0;34m\u001b[0m\u001b[0;34m\u001b[0m\u001b[0m\n\u001b[1;32m     13\u001b[0m \u001b[0;34m\u001b[0m\u001b[0m\n\u001b[0;32m---> 14\u001b[0;31m     \u001b[0mtranscript\u001b[0m \u001b[0;34m=\u001b[0m \u001b[0mget_transcript\u001b[0m\u001b[0;34m(\u001b[0m\u001b[0;34m\"data/microphone_results.wav\"\u001b[0m\u001b[0;34m)\u001b[0m\u001b[0;34m\u001b[0m\u001b[0;34m\u001b[0m\u001b[0m\n\u001b[0m\u001b[1;32m     15\u001b[0m \u001b[0;34m\u001b[0m\u001b[0m\n\u001b[1;32m     16\u001b[0m     \u001b[0;32mreturn\u001b[0m \u001b[0mtranscript\u001b[0m\u001b[0;34m\u001b[0m\u001b[0;34m\u001b[0m\u001b[0m\n",
      "\u001b[0;32m/var/folders/x4/wcbcm0j14l30ls1jk1jrdnjm0000gn/T/ipykernel_91723/90711107.py\u001b[0m in \u001b[0;36mget_transcript\u001b[0;34m(path_file)\u001b[0m\n\u001b[1;32m     11\u001b[0m             \u001b[0maudio\u001b[0m \u001b[0;34m=\u001b[0m \u001b[0mr\u001b[0m\u001b[0;34m.\u001b[0m\u001b[0madjust_for_ambient_noise\u001b[0m\u001b[0;34m(\u001b[0m\u001b[0msource\u001b[0m\u001b[0;34m)\u001b[0m\u001b[0;34m\u001b[0m\u001b[0;34m\u001b[0m\u001b[0m\n\u001b[1;32m     12\u001b[0m             \u001b[0maudio\u001b[0m \u001b[0;34m=\u001b[0m \u001b[0mr\u001b[0m\u001b[0;34m.\u001b[0m\u001b[0mrecord\u001b[0m\u001b[0;34m(\u001b[0m\u001b[0msource\u001b[0m\u001b[0;34m)\u001b[0m\u001b[0;34m\u001b[0m\u001b[0;34m\u001b[0m\u001b[0m\n\u001b[0;32m---> 13\u001b[0;31m         \u001b[0mtranscript\u001b[0m \u001b[0;34m=\u001b[0m \u001b[0mr\u001b[0m\u001b[0;34m.\u001b[0m\u001b[0mrecognize_google\u001b[0m\u001b[0;34m(\u001b[0m\u001b[0maudio\u001b[0m\u001b[0;34m)\u001b[0m\u001b[0;34m\u001b[0m\u001b[0;34m\u001b[0m\u001b[0m\n\u001b[0m\u001b[1;32m     14\u001b[0m     \u001b[0;32melse\u001b[0m\u001b[0;34m:\u001b[0m\u001b[0;34m\u001b[0m\u001b[0;34m\u001b[0m\u001b[0m\n\u001b[1;32m     15\u001b[0m         \u001b[0marr1\u001b[0m \u001b[0;34m=\u001b[0m \u001b[0;34m[\u001b[0m\u001b[0;34m]\u001b[0m\u001b[0;34m\u001b[0m\u001b[0;34m\u001b[0m\u001b[0m\n",
      "\u001b[0;32m~/.pyenv/versions/3.8.12/envs/lewagon/lib/python3.8/site-packages/speech_recognition/__init__.py\u001b[0m in \u001b[0;36mrecognize_google\u001b[0;34m(self, audio_data, key, language, show_all)\u001b[0m\n\u001b[1;32m    856\u001b[0m         \u001b[0;31m# return results\u001b[0m\u001b[0;34m\u001b[0m\u001b[0;34m\u001b[0m\u001b[0;34m\u001b[0m\u001b[0m\n\u001b[1;32m    857\u001b[0m         \u001b[0;32mif\u001b[0m \u001b[0mshow_all\u001b[0m\u001b[0;34m:\u001b[0m \u001b[0;32mreturn\u001b[0m \u001b[0mactual_result\u001b[0m\u001b[0;34m\u001b[0m\u001b[0;34m\u001b[0m\u001b[0m\n\u001b[0;32m--> 858\u001b[0;31m         \u001b[0;32mif\u001b[0m \u001b[0;32mnot\u001b[0m \u001b[0misinstance\u001b[0m\u001b[0;34m(\u001b[0m\u001b[0mactual_result\u001b[0m\u001b[0;34m,\u001b[0m \u001b[0mdict\u001b[0m\u001b[0;34m)\u001b[0m \u001b[0;32mor\u001b[0m \u001b[0mlen\u001b[0m\u001b[0;34m(\u001b[0m\u001b[0mactual_result\u001b[0m\u001b[0;34m.\u001b[0m\u001b[0mget\u001b[0m\u001b[0;34m(\u001b[0m\u001b[0;34m\"alternative\"\u001b[0m\u001b[0;34m,\u001b[0m \u001b[0;34m[\u001b[0m\u001b[0;34m]\u001b[0m\u001b[0;34m)\u001b[0m\u001b[0;34m)\u001b[0m \u001b[0;34m==\u001b[0m \u001b[0;36m0\u001b[0m\u001b[0;34m:\u001b[0m \u001b[0;32mraise\u001b[0m \u001b[0mUnknownValueError\u001b[0m\u001b[0;34m(\u001b[0m\u001b[0;34m)\u001b[0m\u001b[0;34m\u001b[0m\u001b[0;34m\u001b[0m\u001b[0m\n\u001b[0m\u001b[1;32m    859\u001b[0m \u001b[0;34m\u001b[0m\u001b[0m\n\u001b[1;32m    860\u001b[0m         \u001b[0;32mif\u001b[0m \u001b[0;34m\"confidence\"\u001b[0m \u001b[0;32min\u001b[0m \u001b[0mactual_result\u001b[0m\u001b[0;34m[\u001b[0m\u001b[0;34m\"alternative\"\u001b[0m\u001b[0;34m]\u001b[0m\u001b[0;34m:\u001b[0m\u001b[0;34m\u001b[0m\u001b[0;34m\u001b[0m\u001b[0m\n",
      "\u001b[0;31mUnknownValueError\u001b[0m: "
     ]
    }
   ],
   "source": [
    "get_mic(3)"
   ]
  },
  {
   "cell_type": "code",
   "execution_count": 13,
   "id": "2fb22afe",
   "metadata": {},
   "outputs": [],
   "source": [
    "recognize = sr.Recognizer()\n",
    "\n",
    "audioFile = \"data/test2.wav\"\n",
    "\n",
    "with sr.AudioFile(audioFile) as source:\n",
    "    audio = recognize.record(source)\n",
    "    text = recognize.recognize_google(audio, language='en-IN', show_all=True)"
   ]
  },
  {
   "cell_type": "code",
   "execution_count": null,
   "id": "98ec4cb5",
   "metadata": {},
   "outputs": [],
   "source": []
  }
 ],
 "metadata": {
  "kernelspec": {
   "display_name": "Python 3 (ipykernel)",
   "language": "python",
   "name": "python3"
  },
  "language_info": {
   "codemirror_mode": {
    "name": "ipython",
    "version": 3
   },
   "file_extension": ".py",
   "mimetype": "text/x-python",
   "name": "python",
   "nbconvert_exporter": "python",
   "pygments_lexer": "ipython3",
   "version": "3.8.12"
  },
  "toc": {
   "base_numbering": 1,
   "nav_menu": {},
   "number_sections": true,
   "sideBar": true,
   "skip_h1_title": false,
   "title_cell": "Table of Contents",
   "title_sidebar": "Contents",
   "toc_cell": false,
   "toc_position": {},
   "toc_section_display": true,
   "toc_window_display": false
  }
 },
 "nbformat": 4,
 "nbformat_minor": 5
}
