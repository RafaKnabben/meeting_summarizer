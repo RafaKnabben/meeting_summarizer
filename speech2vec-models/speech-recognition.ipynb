{
 "cells": [
  {
   "cell_type": "code",
   "execution_count": 59,
   "id": "d3999a35",
   "metadata": {},
   "outputs": [],
   "source": [
    "from os import path\n",
    "import speech_recognition as sr\n",
    "from pydub import AudioSegment\n",
    "import scipy.io.wavfile as wav\n",
    "import wave\n",
    "import contextlib\n",
    "\n",
    "import time\n",
    "from IPython import display\n",
    "import ffmpeg"
   ]
  },
  {
   "cell_type": "code",
   "execution_count": 2,
   "id": "cf89e230",
   "metadata": {},
   "outputs": [],
   "source": [
    "def length_wav(path_file):\n",
    "    fname = path_file\n",
    "    with contextlib.closing(wave.open(fname,'r')) as f:\n",
    "        frames = f.getnframes()\n",
    "        rate = f.getframerate()\n",
    "        length = frames / float(rate)\n",
    "        return int(length)"
   ]
  },
  {
   "cell_type": "code",
   "execution_count": 3,
   "id": "d2c2c6eb",
   "metadata": {},
   "outputs": [],
   "source": [
    "def get_transcript(path_file):\n",
    "\n",
    "    r = sr.Recognizer()\n",
    "    audio = sr.AudioFile(path_file)\n",
    "    \n",
    "    length = length_wav(path_file)\n",
    "    num_parts = length / 200\n",
    "\n",
    "    if length < 200:\n",
    "        with audio as source:\n",
    "            audio = r.adjust_for_ambient_noise(source)\n",
    "            audio = r.record(source)\n",
    "        transcript = r.recognize_google(audio)\n",
    "    else:\n",
    "        arr1 = []\n",
    "        arr2 = []\n",
    "        for num in range(1, round(num_parts) + 1):\n",
    "            arr1.append(f\"audio_{num}\")\n",
    "\n",
    "\n",
    "        with audio as source:\n",
    "            for num in range(0, len(arr1)):\n",
    "                arr1[num] = r.adjust_for_ambient_noise(source)\n",
    "                arr1[num] = r.record(source, duration = 200)\n",
    "                arr2.append(r.recognize_google(arr1[num]))\n",
    "\n",
    "        transcript = \"\"\n",
    "        for i in range(0, len(arr2)):\n",
    "            transcript = transcript + f\" {arr2[i]}\"\n",
    "\n",
    "    return transcript"
   ]
  },
  {
   "cell_type": "code",
   "execution_count": 4,
   "id": "da2db8cc",
   "metadata": {},
   "outputs": [],
   "source": [
    "def get_mic(silence_length):\n",
    "    r = sr.Recognizer()\n",
    "    r.pause_threshold = silence_length\n",
    "\n",
    "    mic = sr.Microphone()\n",
    "\n",
    "    with mic as source:\n",
    "        audio = r.adjust_for_ambient_noise(source, duration = 0.5)\n",
    "        audio = r.listen(source)\n",
    "    \n",
    "    with open(\"data/microphone_results.wav\", \"wb\") as f:\n",
    "        f.write(audio.get_wav_data())\n",
    "        \n",
    "    transcript = get_transcript(\"data/microphone_results.wav\")\n",
    "    \n",
    "    return transcript"
   ]
  },
  {
   "cell_type": "code",
   "execution_count": null,
   "id": "b1c58694",
   "metadata": {},
   "outputs": [],
   "source": []
  }
 ],
 "metadata": {
  "kernelspec": {
   "display_name": "Python 3 (ipykernel)",
   "language": "python",
   "name": "python3"
  },
  "language_info": {
   "codemirror_mode": {
    "name": "ipython",
    "version": 3
   },
   "file_extension": ".py",
   "mimetype": "text/x-python",
   "name": "python",
   "nbconvert_exporter": "python",
   "pygments_lexer": "ipython3",
   "version": "3.8.12"
  },
  "toc": {
   "base_numbering": 1,
   "nav_menu": {},
   "number_sections": true,
   "sideBar": true,
   "skip_h1_title": false,
   "title_cell": "Table of Contents",
   "title_sidebar": "Contents",
   "toc_cell": false,
   "toc_position": {},
   "toc_section_display": true,
   "toc_window_display": false
  }
 },
 "nbformat": 4,
 "nbformat_minor": 5
}
