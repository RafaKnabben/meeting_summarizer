{
 "cells": [
  {
   "cell_type": "markdown",
   "id": "18284b90",
   "metadata": {},
   "source": [
    "# Youtube Downloader\n",
    "\n",
    "test data: [Coding Bootcamp Berlin | Le Wagon Career Day](https://www.youtube.com/watch?v=JFsZxgy0Npw)"
   ]
  },
  {
   "cell_type": "code",
   "execution_count": 9,
   "id": "884b02fe",
   "metadata": {
    "collapsed": true
   },
   "outputs": [
    {
     "name": "stdout",
     "output_type": "stream",
     "text": [
      "Requirement already satisfied: deepspeech in /Users/kohei/.pyenv/versions/3.8.6/envs/meeting_summarizer/lib/python3.8/site-packages (0.9.3)\n",
      "Requirement already satisfied: numpy<=1.17.3,>=1.17.3 in /Users/kohei/.pyenv/versions/3.8.6/envs/meeting_summarizer/lib/python3.8/site-packages (from deepspeech) (1.17.3)\n",
      "  % Total    % Received % Xferd  Average Speed   Time    Time     Time  Current\n",
      "                                 Dload  Upload   Total   Spent    Left  Speed\n",
      "100   634  100   634    0     0   2280      0 --:--:-- --:--:-- --:--:--  2280\n",
      "100  180M  100  180M    0     0  22.7M      0  0:00:07  0:00:07 --:--:-- 24.8M\n",
      "  % Total    % Received % Xferd  Average Speed   Time    Time     Time  Current\n",
      "                                 Dload  Upload   Total   Spent    Left  Speed\n",
      "100   667  100   667    0     0   2555      0 --:--:-- --:--:-- --:--:--  2555\n",
      "100  909M  100  909M    0     0  22.8M      0  0:00:39  0:00:39 --:--:-- 24.1M 0  21.6M      0  0:00:41  0:00:24  0:00:17 21.4M\n"
     ]
    }
   ],
   "source": [
    "#!curl -LO https://github.com/mozilla/DeepSpeech/releases/download/v0.9.3/deepspeech-0.9.3-models.pbmm\n",
    "#!curl -LO https://github.com/mozilla/DeepSpeech/releases/download/v0.9.3/deepspeech-0.9.3-models.scorer"
   ]
  },
  {
   "cell_type": "code",
   "execution_count": 1,
   "id": "ac9d1e99",
   "metadata": {},
   "outputs": [],
   "source": [
    "%load_ext autoreload\n",
    "%autoreload 2"
   ]
  },
  {
   "cell_type": "code",
   "execution_count": 20,
   "id": "b40b159e",
   "metadata": {},
   "outputs": [],
   "source": [
    "from deepspeech import Model\n",
    "from scipy.io.wavfile import read as wav_read\n",
    "from pytube import YouTube\n",
    "import os\n",
    "import ffmpeg"
   ]
  },
  {
   "cell_type": "code",
   "execution_count": 18,
   "id": "445c6669",
   "metadata": {},
   "outputs": [],
   "source": [
    "def make_transcript(audio_file):\n",
    "    model_file_path = \"./deepspeech-0.9.3-models.pbmm\"\n",
    "    lm_file_path = \"./deepspeech-0.9.3-models.scorer\"\n",
    "    beam_width = 100\n",
    "    lm_alpha = 0.93\n",
    "    lm_beta = 1.18\n",
    "\n",
    "    model = Model(model_file_path)\n",
    "    model.enableExternalScorer(lm_file_path)\n",
    "\n",
    "    model.setScorerAlphaBeta(lm_alpha, lm_beta)\n",
    "    model.setBeamWidth(beam_width)\n",
    "\n",
    "    rate, buffer= wav_read(audio_file)\n",
    "    return model.stt(buffer)"
   ]
  },
  {
   "cell_type": "code",
   "execution_count": 14,
   "id": "beb4828e",
   "metadata": {},
   "outputs": [],
   "source": [
    "text = ('https://www.youtube.com/watch?v=JFsZxgy0Npw')\n",
    "yt = YouTube(text)"
   ]
  },
  {
   "cell_type": "code",
   "execution_count": 15,
   "id": "4bd5bc68",
   "metadata": {
    "scrolled": true
   },
   "outputs": [
    {
     "name": "stderr",
     "output_type": "stream",
     "text": [
      "/var/folders/sy/lghshr2j337gznw_5lk00gn40000gn/T/ipykernel_37767/3275828770.py:1: DeprecationWarning: Call to deprecated function all (This object can be treated as a list, all() is useless).\n",
      "  stream_url = yt.streams.all()[0].url  # Get the URL of the video stream\n",
      "ffmpeg version 4.4.1 Copyright (c) 2000-2021 the FFmpeg developers\n",
      "  built with Apple clang version 13.0.0 (clang-1300.0.29.3)\n",
      "  configuration: --prefix=/usr/local/Cellar/ffmpeg/4.4.1_3 --enable-shared --enable-pthreads --enable-version3 --cc=clang --host-cflags= --host-ldflags= --enable-ffplay --enable-gnutls --enable-gpl --enable-libaom --enable-libbluray --enable-libdav1d --enable-libmp3lame --enable-libopus --enable-librav1e --enable-librist --enable-librubberband --enable-libsnappy --enable-libsrt --enable-libtesseract --enable-libtheora --enable-libvidstab --enable-libvmaf --enable-libvorbis --enable-libvpx --enable-libwebp --enable-libx264 --enable-libx265 --enable-libxml2 --enable-libxvid --enable-lzma --enable-libfontconfig --enable-libfreetype --enable-frei0r --enable-libass --enable-libopencore-amrnb --enable-libopencore-amrwb --enable-libopenjpeg --enable-libspeex --enable-libsoxr --enable-libzmq --enable-libzimg --disable-libjack --disable-indev=jack --enable-avresample --enable-videotoolbox\n",
      "  libavutil      56. 70.100 / 56. 70.100\n",
      "  libavcodec     58.134.100 / 58.134.100\n",
      "  libavformat    58. 76.100 / 58. 76.100\n",
      "  libavdevice    58. 13.100 / 58. 13.100\n",
      "  libavfilter     7.110.100 /  7.110.100\n",
      "  libavresample   4.  0.  0 /  4.  0.  0\n",
      "  libswscale      5.  9.100 /  5.  9.100\n",
      "  libswresample   3.  9.100 /  3.  9.100\n",
      "  libpostproc    55.  9.100 / 55.  9.100\n",
      "Input #0, mov,mp4,m4a,3gp,3g2,mj2, from 'https://r7---sn-uxaxjva0hc0n-nm4l.googlevideo.com/videoplayback?expire=1638102243&ei=gyCjYb78C_y9x_APxeWW2Ac&ip=2a02%3A2454%3A29b%3Ab900%3A42d%3A6e25%3Afe63%3Af204&id=o-ABLrrXLXDgxN-9CsEM5Draldfgr4tTIimcCjYMKhOLaN&itag=17&source=youtube&requiressl=yes&mh=RS&mm=31%2C29&mn=sn-uxaxjva0hc0n-nm4l%2Csn-5hne6nzk&ms=au%2Crdu&mv=m&mvi=7&pl=33&initcwndbps=1403750&vprv=1&mime=video%2F3gpp&gir=yes&clen=900193&dur=88.189&lmt=1555422225364307&mt=1638079970&fvip=3&fexp=24001373%2C24007246&c=ANDROID&txp=2211222&sparams=expire%2Cei%2Cip%2Cid%2Citag%2Csource%2Crequiressl%2Cvprv%2Cmime%2Cgir%2Cclen%2Cdur%2Clmt&sig=AOq0QJ8wRQIgI3382MkLKjaWyb8q_g80nMlTXHWyFQeodhqGfALRCvUCIQCpHh4Jm2PtKoNp2zFlOzG0PBd27T-olvzDDiD7VA5Jvg%3D%3D&lsparams=mh%2Cmm%2Cmn%2Cms%2Cmv%2Cmvi%2Cpl%2Cinitcwndbps&lsig=AG3C_xAwRAIgYSAtWO25uqesfNKo5JYzFAIzU2_n6Pg4BEDUqFJMbKQCIB4O-PX1wS82T8LsIp7Ve3ae-4xRYPWy__VBXhFmHHd0':\n",
      "  Metadata:\n",
      "    major_brand     : mp42\n",
      "    minor_version   : 0\n",
      "    compatible_brands: isommp42\n",
      "    creation_time   : 2019-04-16T13:43:33.000000Z\n",
      "  Duration: 00:01:28.19, start: 0.000000, bitrate: 81 kb/s\n",
      "  Stream #0:0(und): Video: mpeg4 (Simple Profile) (mp4v / 0x7634706D), yuv420p, 176x144 [SAR 1:1 DAR 11:9], 56 kb/s, 6.25 fps, 6.25 tbr, 12800 tbn, 25 tbc (default)\n",
      "    Metadata:\n",
      "      creation_time   : 2019-04-16T13:43:33.000000Z\n",
      "      handler_name    : ISO Media file produced by Google Inc. Created on: 04/16/2019.\n",
      "      vendor_id       : [0][0][0][0]\n",
      "  Stream #0:1(eng): Audio: aac (LC) (mp4a / 0x6134706D), 22050 Hz, mono, fltp, 23 kb/s (default)\n",
      "    Metadata:\n",
      "      creation_time   : 2019-04-16T13:43:33.000000Z\n",
      "      handler_name    : ISO Media file produced by Google Inc. Created on: 04/16/2019.\n",
      "      vendor_id       : [0][0][0][0]\n",
      "Stream mapping:\n",
      "  Stream #0:1 -> #0:0 (aac (native) -> pcm_s16le (native))\n",
      "Press [q] to stop, [?] for help\n",
      "Output #0, wav, to 'pipe:':\n",
      "  Metadata:\n",
      "    major_brand     : mp42\n",
      "    minor_version   : 0\n",
      "    compatible_brands: isommp42\n",
      "    ISFT            : Lavf58.76.100\n",
      "  Stream #0:0(eng): Audio: pcm_s16le ([1][0][0][0] / 0x0001), 22050 Hz, mono, s16, 352 kb/s (default)\n",
      "    Metadata:\n",
      "      creation_time   : 2019-04-16T13:43:33.000000Z\n",
      "      handler_name    : ISO Media file produced by Google Inc. Created on: 04/16/2019.\n",
      "      vendor_id       : [0][0][0][0]\n",
      "      encoder         : Lavc58.134.100 pcm_s16le\n",
      "size=    3798kB time=00:01:28.14 bitrate= 353.0kbits/s speed= 676x    \n",
      "video:0kB audio:3798kB subtitle:0kB other streams:0kB global headers:0kB muxing overhead: 0.002006%\n"
     ]
    }
   ],
   "source": [
    "stream_url = yt.streams.all()[0].url\n",
    "\n",
    "audio, err = (\n",
    "    ffmpeg\n",
    "    .input(stream_url)\n",
    "    .output(\"pipe:\", format='wav', acodec='pcm_s16le') \n",
    "    .run(capture_stdout=True)\n",
    ")\n",
    "\n",
    "with open('audio.wav', 'wb') as f:\n",
    "    f.write(audio)"
   ]
  },
  {
   "cell_type": "code",
   "execution_count": 21,
   "id": "42e747d5",
   "metadata": {
    "scrolled": true
   },
   "outputs": [
    {
     "name": "stderr",
     "output_type": "stream",
     "text": [
      "TensorFlow: v2.3.0-6-g23ad988fcd\n",
      "DeepSpeech: v0.9.3-0-gf2e9c858\n",
      "/var/folders/sy/lghshr2j337gznw_5lk00gn40000gn/T/ipykernel_37767/1432832178.py:14: WavFileWarning: Reached EOF prematurely; finished at 3889231 bytes, expected 4294967303 bytes from header.\n",
      "  rate, buffer= wav_read(audio_file)\n"
     ]
    },
    {
     "data": {
      "text/plain": [
       "'to bersaglierino trumpeter oenothera appetence indulgent to lonesomeville change them on mainwaindumeyun all to be of mariandynians learn more and all onananiche people aviaries i get a chance to make an impression and actually meeserable tepefacere that whatsoever to be oionistike potentiometer of companies of the stature recipients i would never have considered to be decorated for what my future was and what were the arnisdale'"
      ]
     },
     "execution_count": 21,
     "metadata": {},
     "output_type": "execute_result"
    }
   ],
   "source": [
    "make_transcript('audio.wav')"
   ]
  },
  {
   "cell_type": "code",
   "execution_count": null,
   "id": "2697e397",
   "metadata": {},
   "outputs": [],
   "source": []
  }
 ],
 "metadata": {
  "kernelspec": {
   "display_name": "Python 3 (ipykernel)",
   "language": "python",
   "name": "python3"
  },
  "language_info": {
   "codemirror_mode": {
    "name": "ipython",
    "version": 3
   },
   "file_extension": ".py",
   "mimetype": "text/x-python",
   "name": "python",
   "nbconvert_exporter": "python",
   "pygments_lexer": "ipython3",
   "version": "3.8.6"
  }
 },
 "nbformat": 4,
 "nbformat_minor": 5
}
