{
 "cells": [
  {
   "cell_type": "markdown",
   "id": "18284b90",
   "metadata": {},
   "source": [
    "# Youtube Downloader\n",
    "\n",
    "test data: [Coding Bootcamp Berlin | Le Wagon Career Day](https://www.youtube.com/watch?v=JFsZxgy0Npw)"
   ]
  },
  {
   "cell_type": "code",
   "execution_count": 12,
   "id": "884b02fe",
   "metadata": {},
   "outputs": [
    {
     "name": "stdout",
     "output_type": "stream",
     "text": [
      "  % Total    % Received % Xferd  Average Speed   Time    Time     Time  Current\n",
      "                                 Dload  Upload   Total   Spent    Left  Speed\n",
      "100   634  100   634    0     0   2193      0 --:--:-- --:--:-- --:--:--  2193\n",
      "100  180M  100  180M    0     0  22.8M      0  0:00:07  0:00:07 --:--:-- 25.1M  0     0  21.6M      0  0:00:08  0:00:05  0:00:03 22.8M\n",
      "  % Total    % Received % Xferd  Average Speed   Time    Time     Time  Current\n",
      "                                 Dload  Upload   Total   Spent    Left  Speed\n",
      "100   667  100   667    0     0   2479      0 --:--:-- --:--:-- --:--:--  2470\n",
      "100  909M  100  909M    0     0  22.1M      0  0:00:41  0:00:41 --:--:-- 24.2M\n"
     ]
    }
   ],
   "source": [
    "!curl -LO https://github.com/mozilla/DeepSpeech/releases/download/v0.9.3/deepspeech-0.9.3-models.pbmm\n",
    "!curl -LO https://github.com/mozilla/DeepSpeech/releases/download/v0.9.3/deepspeech-0.9.3-models.scorer"
   ]
  },
  {
   "cell_type": "code",
   "execution_count": 13,
   "id": "ac9d1e99",
   "metadata": {},
   "outputs": [
    {
     "name": "stdout",
     "output_type": "stream",
     "text": [
      "The autoreload extension is already loaded. To reload it, use:\n",
      "  %reload_ext autoreload\n"
     ]
    }
   ],
   "source": [
    "%load_ext autoreload\n",
    "%autoreload 2"
   ]
  },
  {
   "cell_type": "code",
   "execution_count": 14,
   "id": "b40b159e",
   "metadata": {},
   "outputs": [],
   "source": [
    "from deepspeech import Model\n",
    "from scipy.io.wavfile import read as wav_read\n",
    "from pytube import YouTube\n",
    "import os\n",
    "import ffmpeg"
   ]
  },
  {
   "cell_type": "code",
   "execution_count": 29,
   "id": "8e229e8b",
   "metadata": {
    "scrolled": true
   },
   "outputs": [
    {
     "name": "stdout",
     "output_type": "stream",
     "text": [
      "zsh:1: command not found: apt-get\n",
      "Requirement already satisfied: Cython in /Users/kohei/.pyenv/versions/3.8.6/envs/meeting_summarizer/lib/python3.8/site-packages (0.29.24)\n",
      "Requirement already satisfied: nemo_toolkit in /Users/kohei/.pyenv/versions/3.8.6/envs/meeting_summarizer/lib/python3.8/site-packages (0.9.0)\n",
      "Requirement already satisfied: onnx in /Users/kohei/.pyenv/versions/3.8.6/envs/meeting_summarizer/lib/python3.8/site-packages (from nemo_toolkit) (1.10.2)\n",
      "Requirement already satisfied: wget in /Users/kohei/.pyenv/versions/3.8.6/envs/meeting_summarizer/lib/python3.8/site-packages (from nemo_toolkit) (3.2)\n",
      "Requirement already satisfied: pandas in /Users/kohei/.pyenv/versions/3.8.6/envs/meeting_summarizer/lib/python3.8/site-packages (from nemo_toolkit) (1.3.4)\n",
      "Requirement already satisfied: tensorboardX in /Users/kohei/.pyenv/versions/3.8.6/envs/meeting_summarizer/lib/python3.8/site-packages (from nemo_toolkit) (1.9)\n",
      "Requirement already satisfied: torch in /Users/kohei/.pyenv/versions/3.8.6/envs/meeting_summarizer/lib/python3.8/site-packages (from nemo_toolkit) (1.4.0)\n",
      "Requirement already satisfied: torchvision in /Users/kohei/.pyenv/versions/3.8.6/envs/meeting_summarizer/lib/python3.8/site-packages (from nemo_toolkit) (0.5.0)\n",
      "Requirement already satisfied: protobuf in /Users/kohei/.pyenv/versions/3.8.6/envs/meeting_summarizer/lib/python3.8/site-packages (from onnx->nemo_toolkit) (3.19.1)\n",
      "Requirement already satisfied: six in /Users/kohei/.pyenv/versions/3.8.6/envs/meeting_summarizer/lib/python3.8/site-packages (from onnx->nemo_toolkit) (1.16.0)\n",
      "Requirement already satisfied: numpy>=1.16.6 in /Users/kohei/.pyenv/versions/3.8.6/envs/meeting_summarizer/lib/python3.8/site-packages (from onnx->nemo_toolkit) (1.17.3)\n",
      "Requirement already satisfied: typing-extensions>=3.6.2.1 in /Users/kohei/.pyenv/versions/3.8.6/envs/meeting_summarizer/lib/python3.8/site-packages (from onnx->nemo_toolkit) (3.10.0.2)\n",
      "Requirement already satisfied: python-dateutil>=2.7.3 in /Users/kohei/.pyenv/versions/3.8.6/envs/meeting_summarizer/lib/python3.8/site-packages (from pandas->nemo_toolkit) (2.8.1)\n",
      "Requirement already satisfied: pytz>=2017.3 in /Users/kohei/.pyenv/versions/3.8.6/envs/meeting_summarizer/lib/python3.8/site-packages (from pandas->nemo_toolkit) (2021.3)\n",
      "Requirement already satisfied: pillow>=4.1.1 in /Users/kohei/.pyenv/versions/3.8.6/envs/meeting_summarizer/lib/python3.8/site-packages (from torchvision->nemo_toolkit) (8.3.2)\n"
     ]
    }
   ],
   "source": [
    "! apt-get update && apt-get install -y libsndfile1 ffmpeg\n",
    "! pip install Cython\n",
    "! pip install nemo_toolkit"
   ]
  },
  {
   "cell_type": "code",
   "execution_count": 32,
   "id": "ad63a345",
   "metadata": {
    "scrolled": true
   },
   "outputs": [
    {
     "ename": "ModuleNotFoundError",
     "evalue": "No module named 'nemo'",
     "output_type": "error",
     "traceback": [
      "\u001b[0;31m---------------------------------------------------------------------------\u001b[0m",
      "\u001b[0;31mModuleNotFoundError\u001b[0m                       Traceback (most recent call last)",
      "\u001b[0;32m/var/folders/sy/lghshr2j337gznw_5lk00gn40000gn/T/ipykernel_34600/3670572754.py\u001b[0m in \u001b[0;36m<module>\u001b[0;34m\u001b[0m\n\u001b[0;32m----> 1\u001b[0;31m \u001b[0;32mimport\u001b[0m \u001b[0mnemo\u001b[0m\u001b[0;34m\u001b[0m\u001b[0;34m\u001b[0m\u001b[0m\n\u001b[0m\u001b[1;32m      2\u001b[0m \u001b[0;32mfrom\u001b[0m \u001b[0mnemo\u001b[0m\u001b[0;34m.\u001b[0m\u001b[0mcollections\u001b[0m\u001b[0;34m.\u001b[0m\u001b[0mnlp\u001b[0m\u001b[0;34m.\u001b[0m\u001b[0mmodels\u001b[0m \u001b[0;32mimport\u001b[0m \u001b[0mPunctuationCapitalizationModel\u001b[0m\u001b[0;34m\u001b[0m\u001b[0;34m\u001b[0m\u001b[0m\n\u001b[1;32m      3\u001b[0m \u001b[0;32mfrom\u001b[0m \u001b[0mtransformers\u001b[0m \u001b[0;32mimport\u001b[0m \u001b[0mAutoTokenizer\u001b[0m\u001b[0;34m,\u001b[0m \u001b[0mAutoModelWithLMHead\u001b[0m\u001b[0;34m\u001b[0m\u001b[0;34m\u001b[0m\u001b[0m\n",
      "\u001b[0;31mModuleNotFoundError\u001b[0m: No module named 'nemo'"
     ]
    }
   ],
   "source": [
    "import nemo\n",
    "from nemo.collections.nlp.models import PunctuationCapitalizationModel\n",
    "from transformers import AutoTokenizer, AutoModelWithLMHead"
   ]
  },
  {
   "cell_type": "code",
   "execution_count": 44,
   "id": "d6d93aee",
   "metadata": {},
   "outputs": [],
   "source": [
    "def get_wave(url):\n",
    "    text = (f'{url}')\n",
    "    yt = YouTube(text)\n",
    "    stream_url = yt.streams.all()[0].url\n",
    "    audio, err = (ffmpeg.input(stream_url).output(\n",
    "        \"pipe:\", format='wav', acodec='pcm_s16le').run(capture_stdout=True))\n",
    "    with open('audio.wav', 'wb') as f:\n",
    "        f.write(audio)\n",
    "        audio_file = 'audio.wav'\n",
    "        \n",
    "        return audio_file"
   ]
  },
  {
   "cell_type": "code",
   "execution_count": 45,
   "id": "ac571c6a",
   "metadata": {},
   "outputs": [
    {
     "name": "stderr",
     "output_type": "stream",
     "text": [
      "/var/folders/sy/lghshr2j337gznw_5lk00gn40000gn/T/ipykernel_34600/464524003.py:4: DeprecationWarning: Call to deprecated function all (This object can be treated as a list, all() is useless).\n",
      "  stream_url = yt.streams.all()[0].url\n",
      "ffmpeg version 4.4.1 Copyright (c) 2000-2021 the FFmpeg developers\n",
      "  built with Apple clang version 13.0.0 (clang-1300.0.29.3)\n",
      "  configuration: --prefix=/usr/local/Cellar/ffmpeg/4.4.1_3 --enable-shared --enable-pthreads --enable-version3 --cc=clang --host-cflags= --host-ldflags= --enable-ffplay --enable-gnutls --enable-gpl --enable-libaom --enable-libbluray --enable-libdav1d --enable-libmp3lame --enable-libopus --enable-librav1e --enable-librist --enable-librubberband --enable-libsnappy --enable-libsrt --enable-libtesseract --enable-libtheora --enable-libvidstab --enable-libvmaf --enable-libvorbis --enable-libvpx --enable-libwebp --enable-libx264 --enable-libx265 --enable-libxml2 --enable-libxvid --enable-lzma --enable-libfontconfig --enable-libfreetype --enable-frei0r --enable-libass --enable-libopencore-amrnb --enable-libopencore-amrwb --enable-libopenjpeg --enable-libspeex --enable-libsoxr --enable-libzmq --enable-libzimg --disable-libjack --disable-indev=jack --enable-avresample --enable-videotoolbox\n",
      "  libavutil      56. 70.100 / 56. 70.100\n",
      "  libavcodec     58.134.100 / 58.134.100\n",
      "  libavformat    58. 76.100 / 58. 76.100\n",
      "  libavdevice    58. 13.100 / 58. 13.100\n",
      "  libavfilter     7.110.100 /  7.110.100\n",
      "  libavresample   4.  0.  0 /  4.  0.  0\n",
      "  libswscale      5.  9.100 /  5.  9.100\n",
      "  libswresample   3.  9.100 /  3.  9.100\n",
      "  libpostproc    55.  9.100 / 55.  9.100\n",
      "Input #0, mov,mp4,m4a,3gp,3g2,mj2, from 'https://r7---sn-uxaxjva0hc0n-nm4l.googlevideo.com/videoplayback?expire=1638157137&ei=8fajYdnfHMqn8gOf0p-4DQ&ip=2a02%3A2454%3A29b%3Ab900%3A42d%3A6e25%3Afe63%3Af204&id=o-AJY_3H54scUpJpAw8-eBZnVN_E5UJqFr86fstXOrKbwF&itag=17&source=youtube&requiressl=yes&mh=RS&mm=31%2C29&mn=sn-uxaxjva0hc0n-nm4l%2Csn-4g5e6ns6&ms=au%2Crdu&mv=m&mvi=7&pl=33&initcwndbps=1382500&vprv=1&mime=video%2F3gpp&gir=yes&clen=900193&dur=88.189&lmt=1555422225364307&mt=1638135175&fvip=3&fexp=24001373%2C24007246&c=ANDROID&txp=2211222&sparams=expire%2Cei%2Cip%2Cid%2Citag%2Csource%2Crequiressl%2Cvprv%2Cmime%2Cgir%2Cclen%2Cdur%2Clmt&sig=AOq0QJ8wRAIgYOFlcS0AkfTiHM-oGU4POnC1UeEB_Tt9XwV3sN4ewgUCICCRlfRadHaTKmqL37ZffCwpnxTwll51Lx0bGhKxBBBs&lsparams=mh%2Cmm%2Cmn%2Cms%2Cmv%2Cmvi%2Cpl%2Cinitcwndbps&lsig=AG3C_xAwRAIgLIkJp19Lg4xYHVAdOybpJZvhUVNJ6jfe0UJOgUbZI_oCIFpAlqX8noyksDbkRXxV2YUUh6hJW7vcSXUya_wkey8z':\n",
      "  Metadata:\n",
      "    major_brand     : mp42\n",
      "    minor_version   : 0\n",
      "    compatible_brands: isommp42\n",
      "    creation_time   : 2019-04-16T13:43:33.000000Z\n",
      "  Duration: 00:01:28.19, start: 0.000000, bitrate: 81 kb/s\n",
      "  Stream #0:0(und): Video: mpeg4 (Simple Profile) (mp4v / 0x7634706D), yuv420p, 176x144 [SAR 1:1 DAR 11:9], 56 kb/s, 6.25 fps, 6.25 tbr, 12800 tbn, 25 tbc (default)\n",
      "    Metadata:\n",
      "      creation_time   : 2019-04-16T13:43:33.000000Z\n",
      "      handler_name    : ISO Media file produced by Google Inc. Created on: 04/16/2019.\n",
      "      vendor_id       : [0][0][0][0]\n",
      "  Stream #0:1(eng): Audio: aac (LC) (mp4a / 0x6134706D), 22050 Hz, mono, fltp, 23 kb/s (default)\n",
      "    Metadata:\n",
      "      creation_time   : 2019-04-16T13:43:33.000000Z\n",
      "      handler_name    : ISO Media file produced by Google Inc. Created on: 04/16/2019.\n",
      "      vendor_id       : [0][0][0][0]\n",
      "Stream mapping:\n",
      "  Stream #0:1 -> #0:0 (aac (native) -> pcm_s16le (native))\n",
      "Press [q] to stop, [?] for help\n",
      "Output #0, wav, to 'pipe:':\n",
      "  Metadata:\n",
      "    major_brand     : mp42\n",
      "    minor_version   : 0\n",
      "    compatible_brands: isommp42\n",
      "    ISFT            : Lavf58.76.100\n",
      "  Stream #0:0(eng): Audio: pcm_s16le ([1][0][0][0] / 0x0001), 22050 Hz, mono, s16, 352 kb/s (default)\n",
      "    Metadata:\n",
      "      creation_time   : 2019-04-16T13:43:33.000000Z\n",
      "      handler_name    : ISO Media file produced by Google Inc. Created on: 04/16/2019.\n",
      "      vendor_id       : [0][0][0][0]\n",
      "      encoder         : Lavc58.134.100 pcm_s16le\n",
      "size=    3798kB time=00:01:28.14 bitrate= 353.0kbits/s speed=1.11e+03x    \n",
      "video:0kB audio:3798kB subtitle:0kB other streams:0kB global headers:0kB muxing overhead: 0.002006%\n"
     ]
    }
   ],
   "source": [
    "audio = get_wave('https://www.youtube.com/watch?v=JFsZxgy0Npw')"
   ]
  },
  {
   "cell_type": "code",
   "execution_count": 39,
   "id": "445c6669",
   "metadata": {},
   "outputs": [],
   "source": [
    "def get_text(audio_file):\n",
    "    model_file_path = \"./deepspeech-0.9.3-models.pbmm\"\n",
    "    lm_file_path = \"./deepspeech-0.9.3-models.scorer\"\n",
    "    beam_width = 3000\n",
    "    lm_alpha = 0.931289039105002\n",
    "    lm_beta = 1.1834137581510284\n",
    "\n",
    "    model = Model(model_file_path)\n",
    "    model.enableExternalScorer(lm_file_path)\n",
    "    model.setScorerAlphaBeta(lm_alpha, lm_beta)\n",
    "    model.setBeamWidth(beam_width)\n",
    "    rate, buffer= wav_read(audio_file)\n",
    "    row_text = model.stt(buffer)\n",
    "    \n",
    "    return row_text"
   ]
  },
  {
   "cell_type": "code",
   "execution_count": 46,
   "id": "cb076074",
   "metadata": {},
   "outputs": [
    {
     "name": "stderr",
     "output_type": "stream",
     "text": [
      "TensorFlow: v2.3.0-6-g23ad988fcd\n",
      "DeepSpeech: v0.9.3-0-gf2e9c858\n",
      "/var/folders/sy/lghshr2j337gznw_5lk00gn40000gn/T/ipykernel_34600/959718576.py:12: WavFileWarning: Reached EOF prematurely; finished at 3889231 bytes, expected 4294967303 bytes from header.\n",
      "  rate, buffer= wav_read(audio_file)\n"
     ]
    },
    {
     "data": {
      "text/plain": [
       "'to this interpretation trumpery certainly in for a more happy to be connected in beetween the two of the committee a behaving to change them ominously to woodland they all turned all to be of lasting importance to spare the totalisator the old botanist a battered learn more and all on what i and initiator with other people viperine i get a chance to make an impression and actually meeting close to belittle the fortifications the people that what is complete proposition to be a commissioner active proletarian possessed to all brotherhoods gianforte depositors table sederunt of companies of the stature of resistance proportions no i would never have considered to be before it the wisitor what my future was and what was the word is canalopolis'"
      ]
     },
     "execution_count": 46,
     "metadata": {},
     "output_type": "execute_result"
    }
   ],
   "source": [
    "row_text = get_text(audio)\n",
    "row_text"
   ]
  },
  {
   "cell_type": "code",
   "execution_count": 47,
   "id": "12b91b00",
   "metadata": {},
   "outputs": [
    {
     "ename": "SyntaxError",
     "evalue": "invalid syntax (3644523732.py, line 1)",
     "output_type": "error",
     "traceback": [
      "\u001b[0;36m  File \u001b[0;32m\"/var/folders/sy/lghshr2j337gznw_5lk00gn40000gn/T/ipykernel_34600/3644523732.py\"\u001b[0;36m, line \u001b[0;32m1\u001b[0m\n\u001b[0;31m    --python versions\u001b[0m\n\u001b[0m             ^\u001b[0m\n\u001b[0;31mSyntaxError\u001b[0m\u001b[0;31m:\u001b[0m invalid syntax\n"
     ]
    }
   ],
   "source": []
  },
  {
   "cell_type": "code",
   "execution_count": null,
   "id": "ae896d01",
   "metadata": {},
   "outputs": [],
   "source": []
  },
  {
   "cell_type": "code",
   "execution_count": null,
   "id": "91ae555d",
   "metadata": {},
   "outputs": [],
   "source": []
  },
  {
   "cell_type": "code",
   "execution_count": null,
   "id": "c66b8abe",
   "metadata": {},
   "outputs": [],
   "source": [
    "def get_sentence(unpunctuated_text):\n",
    "    model = PunctuationCapitalizationModel.from_pretrained(model_name=\"punctuation_en_distilbert\")\n",
    "    punctuated_text = model.add_punctuation_capitalization([unpunctuated_text])\n",
    "    \n",
    "    return punctuated_text   "
   ]
  },
  {
   "cell_type": "code",
   "execution_count": null,
   "id": "b4540ff6",
   "metadata": {},
   "outputs": [],
   "source": [
    "punctuated_text = get_sentence(row_text)\n",
    "puctuated_text"
   ]
  },
  {
   "cell_type": "code",
   "execution_count": null,
   "id": "b381cbad",
   "metadata": {},
   "outputs": [],
   "source": [
    "def get_correction(row_sentence):\n",
    "    tokenizer = AutoTokenizer.from_pretrained(\"flexudy/t5-base-multi-sentence-doctor\")\n",
    "    model = AutoModelWithLMHead.from_pretrained(\"flexudy/t5-base-multi-sentence-doctor\")\n",
    "\n",
    "    input_ids = tokenizer.encode(row_sentence, return_tensors=\"pt\")\n",
    "    outputs = model.generate(input_ids, max_length=32, num_beams=1)\n",
    "\n",
    "sentence = tokenizer.decode(outputs[0], skip_special_tokens=True, clean_up_tokenization_spaces=True)\n",
    "\n",
    "assert sentence == \"I am a medical doctor.\"\n",
    "    "
   ]
  },
  {
   "cell_type": "code",
   "execution_count": null,
   "id": "8a45ec09",
   "metadata": {},
   "outputs": [],
   "source": [
    "corrected_text = get_correction(punctuated_text)"
   ]
  }
 ],
 "metadata": {
  "kernelspec": {
   "display_name": "Python 3 (ipykernel)",
   "language": "python",
   "name": "python3"
  },
  "language_info": {
   "codemirror_mode": {
    "name": "ipython",
    "version": 3
   },
   "file_extension": ".py",
   "mimetype": "text/x-python",
   "name": "python",
   "nbconvert_exporter": "python",
   "pygments_lexer": "ipython3",
   "version": "3.8.6"
  }
 },
 "nbformat": 4,
 "nbformat_minor": 5
}
