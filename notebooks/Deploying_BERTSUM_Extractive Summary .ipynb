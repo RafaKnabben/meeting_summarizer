{
 "cells": [
  {
   "cell_type": "markdown",
   "id": "358687cd",
   "metadata": {},
   "source": [
    "## First step: Trying Bertsum model Extractive Summary"
   ]
  },
  {
   "cell_type": "code",
   "execution_count": 1,
   "id": "182dcba4",
   "metadata": {},
   "outputs": [],
   "source": [
    "import numpy as np\n",
    "import pandas as pd\n",
    "import os\n",
    "import torch\n",
    "import torchvision\n",
    "#pip install ipywidgets"
   ]
  },
  {
   "cell_type": "code",
   "execution_count": 2,
   "id": "583f911a",
   "metadata": {},
   "outputs": [],
   "source": [
    "#pip install torchvision "
   ]
  },
  {
   "cell_type": "code",
   "execution_count": 3,
   "id": "81722f97",
   "metadata": {},
   "outputs": [],
   "source": [
    "#pip install bert-extractive-summarizer"
   ]
  },
  {
   "cell_type": "code",
   "execution_count": 4,
   "id": "ac391a90",
   "metadata": {},
   "outputs": [],
   "source": [
    "get_summary=open('bbc_meat.txt','r', encoding='ISO-8859-1').read()"
   ]
  },
  {
   "cell_type": "code",
   "execution_count": 5,
   "id": "1040153a",
   "metadata": {},
   "outputs": [
    {
     "data": {
      "application/vnd.jupyter.widget-view+json": {
       "model_id": "721edafab4eb46ffa4947d5b2de28b4f",
       "version_major": 2,
       "version_minor": 0
      },
      "text/plain": [
       "Downloading:   0%|          | 0.00/571 [00:00<?, ?B/s]"
      ]
     },
     "metadata": {},
     "output_type": "display_data"
    },
    {
     "data": {
      "application/vnd.jupyter.widget-view+json": {
       "model_id": "5271edccb1be46c3ad678715fd685535",
       "version_major": 2,
       "version_minor": 0
      },
      "text/plain": [
       "Downloading:   0%|          | 0.00/1.25G [00:00<?, ?B/s]"
      ]
     },
     "metadata": {},
     "output_type": "display_data"
    },
    {
     "name": "stderr",
     "output_type": "stream",
     "text": [
      "Some weights of the model checkpoint at bert-large-uncased were not used when initializing BertModel: ['cls.seq_relationship.weight', 'cls.predictions.transform.dense.bias', 'cls.predictions.transform.LayerNorm.bias', 'cls.predictions.transform.dense.weight', 'cls.seq_relationship.bias', 'cls.predictions.bias', 'cls.predictions.transform.LayerNorm.weight', 'cls.predictions.decoder.weight']\n",
      "- This IS expected if you are initializing BertModel from the checkpoint of a model trained on another task or with another architecture (e.g. initializing a BertForSequenceClassification model from a BertForPreTraining model).\n",
      "- This IS NOT expected if you are initializing BertModel from the checkpoint of a model that you expect to be exactly identical (initializing a BertForSequenceClassification model from a BertForSequenceClassification model).\n"
     ]
    },
    {
     "data": {
      "application/vnd.jupyter.widget-view+json": {
       "model_id": "60c902560f244934bb2605140c400c39",
       "version_major": 2,
       "version_minor": 0
      },
      "text/plain": [
       "Downloading:   0%|          | 0.00/226k [00:00<?, ?B/s]"
      ]
     },
     "metadata": {},
     "output_type": "display_data"
    },
    {
     "data": {
      "application/vnd.jupyter.widget-view+json": {
       "model_id": "7aba2c300cc34f7fb59b035f5318efa5",
       "version_major": 2,
       "version_minor": 0
      },
      "text/plain": [
       "Downloading:   0%|          | 0.00/28.0 [00:00<?, ?B/s]"
      ]
     },
     "metadata": {},
     "output_type": "display_data"
    },
    {
     "data": {
      "application/vnd.jupyter.widget-view+json": {
       "model_id": "51ba7e63168e4c6cab9411878504007b",
       "version_major": 2,
       "version_minor": 0
      },
      "text/plain": [
       "Downloading:   0%|          | 0.00/455k [00:00<?, ?B/s]"
      ]
     },
     "metadata": {},
     "output_type": "display_data"
    },
    {
     "name": "stdout",
     "output_type": "stream",
     "text": [
      "Where it's forbidden to serve meat\n",
      "Long known as one of the world's holiest cities, India's spiritual capital is now luring culinary pilgrims as it transforms into a vegetarian paradise. However, my reasons for travelling to Varanasi were quite different. Story continues below\n",
      "I didn't come to confront death or cleanse my soul; I came to experience the city's unique vegetarian food\n",
      "Driving through the city's busy streets, Rakesh Giri, chauffeur and raconteur par excellence, told me how Shiva, the destroyer of the universe, had founded Varanasi in the days of yore, according to Hindu belief. We refuse to even drink water in a home where eggs are consumed,\" Giri said as he dropped me off. But what makes Varanasi's vegetarian cuisine so interesting is how its sattvic and vegetarian specialties are directly influenced by its strong sense of spirituality. These are humble dishes that our guests would have never had the opportunity to taste otherwise,\" he added. It was in the midst of other diners at my restaurant. Ê\n",
      "Across town,ÊShree ShivayÊis one of a growing number of restaurants serving local sattvic recipes. Today, locals estimate are anywhere from 40 to 200 sattvic restaurants in Varanasi, a huge jump since the 2019 meat ban. My thalifeatured items likeÊkadhi pakoraÊ(fried chickpea flour dumplings in yoghurt sauce),ÊrajmaÊ(red kidney beans in tomato gravy) andÊpaneerÊ(Indian cottage cheese). Today, you won't find it anywhere else outside of Varanasi. Local guide, Manjeet Sahani, who frequently takes visitors to the restaurant, said, \"Initially, I thought that the sight of cow dung cakes might put people off. At the Netaji Paan Bhandar stall, the original founder's grandson and the current owner, Pavan Chaurasiya, layered rose petal jam, areca nuts and slaked lime on the fresh betel leaf before folding it with origami-like precision and presenting it to me on a silver tray. While most may come looking for spiritual salvation, this culinary pilgrim came away enlightened by this vegetarian heaven. A handpicked selection of stories from BBC Future, Culture, Worklife and Travel, delivered to your inbox every Friday.\n"
     ]
    }
   ],
   "source": [
    "from summarizer import Summarizer\n",
    "model = Summarizer()\n",
    "result = model(get_summary, min_length=20)\n",
    "summary = \"\".join(result)\n",
    "print(summary)"
   ]
  },
  {
   "cell_type": "code",
   "execution_count": 6,
   "id": "c6d71830",
   "metadata": {},
   "outputs": [],
   "source": []
  },
  {
   "cell_type": "code",
   "execution_count": 8,
   "id": "3e0120b1",
   "metadata": {},
   "outputs": [
    {
     "ename": "AttributeError",
     "evalue": "'str' object has no attribute 'info'",
     "output_type": "error",
     "traceback": [
      "\u001b[0;31m---------------------------------------------------------------------------\u001b[0m",
      "\u001b[0;31mAttributeError\u001b[0m                            Traceback (most recent call last)",
      "\u001b[0;32m/var/folders/7x/9785ys213y37gjgdjl5t7hnw0000gn/T/ipykernel_9230/2245920187.py\u001b[0m in \u001b[0;36m<module>\u001b[0;34m\u001b[0m\n\u001b[0;32m----> 1\u001b[0;31m \u001b[0mget_summary\u001b[0m\u001b[0;34m.\u001b[0m\u001b[0minfo\u001b[0m\u001b[0;34m(\u001b[0m\u001b[0;34m)\u001b[0m\u001b[0;34m\u001b[0m\u001b[0;34m\u001b[0m\u001b[0m\n\u001b[0m",
      "\u001b[0;31mAttributeError\u001b[0m: 'str' object has no attribute 'info'"
     ]
    }
   ],
   "source": []
  },
  {
   "cell_type": "code",
   "execution_count": null,
   "id": "0b534f32",
   "metadata": {},
   "outputs": [],
   "source": []
  },
  {
   "cell_type": "code",
   "execution_count": null,
   "id": "4f316877",
   "metadata": {},
   "outputs": [],
   "source": []
  }
 ],
 "metadata": {
  "kernelspec": {
   "display_name": "Python 3 (ipykernel)",
   "language": "python",
   "name": "python3"
  },
  "language_info": {
   "codemirror_mode": {
    "name": "ipython",
    "version": 3
   },
   "file_extension": ".py",
   "mimetype": "text/x-python",
   "name": "python",
   "nbconvert_exporter": "python",
   "pygments_lexer": "ipython3",
   "version": "3.8.6"
  },
  "toc": {
   "base_numbering": 1,
   "nav_menu": {},
   "number_sections": true,
   "sideBar": true,
   "skip_h1_title": false,
   "title_cell": "Table of Contents",
   "title_sidebar": "Contents",
   "toc_cell": false,
   "toc_position": {},
   "toc_section_display": true,
   "toc_window_display": false
  }
 },
 "nbformat": 4,
 "nbformat_minor": 5
}
