{
 "cells": [
  {
   "cell_type": "markdown",
   "id": "ac18271b",
   "metadata": {},
   "source": [
    " ## Model Selection: Research Paper Summarization"
   ]
  },
  {
   "cell_type": "markdown",
   "id": "ce8fa95f",
   "metadata": {},
   "source": [
    "This model is by Janani Arunachalam and Kevin Thomas. Notebook can be found here: https://github.com/jananiarunachalam/Research-Paper-Summarization/blob/master/Abstractive_Summarization.ipynb"
   ]
  },
  {
   "cell_type": "code",
   "execution_count": 9,
   "id": "a7b5a67c",
   "metadata": {},
   "outputs": [
    {
     "name": "stdout",
     "output_type": "stream",
     "text": [
      "Requirement already satisfied: tqdm==4.36.1 in /Users/sana/.pyenv/versions/3.8.6/envs/lewagon/lib/python3.8/site-packages (4.36.1)\r\n"
     ]
    }
   ],
   "source": [
    "!pip install tqdm==4.36.1"
   ]
  },
  {
   "cell_type": "code",
   "execution_count": 10,
   "id": "b0ad74b2",
   "metadata": {},
   "outputs": [
    {
     "name": "stdout",
     "output_type": "stream",
     "text": [
      "Requirement already satisfied: rogue in /Users/sana/.pyenv/versions/3.8.6/envs/lewagon/lib/python3.8/site-packages (0.0.2)\r\n"
     ]
    }
   ],
   "source": [
    "!pip install rogue"
   ]
  },
  {
   "cell_type": "code",
   "execution_count": 11,
   "id": "11a9bd1d",
   "metadata": {},
   "outputs": [
    {
     "name": "stdout",
     "output_type": "stream",
     "text": [
      "Requirement already satisfied: pandas in /Users/sana/.pyenv/versions/3.8.6/envs/lewagon/lib/python3.8/site-packages (1.2.5)\n",
      "Requirement already satisfied: numpy>=1.16.5 in /Users/sana/.pyenv/versions/3.8.6/envs/lewagon/lib/python3.8/site-packages (from pandas) (1.17.2)\n",
      "Requirement already satisfied: pytz>=2017.3 in /Users/sana/.pyenv/versions/3.8.6/envs/lewagon/lib/python3.8/site-packages (from pandas) (2021.1)\n",
      "Requirement already satisfied: python-dateutil>=2.7.3 in /Users/sana/.pyenv/versions/3.8.6/envs/lewagon/lib/python3.8/site-packages (from pandas) (2.8.1)\n",
      "Requirement already satisfied: six>=1.5 in /Users/sana/.pyenv/versions/3.8.6/envs/lewagon/lib/python3.8/site-packages (from python-dateutil>=2.7.3->pandas) (1.14.0)\n"
     ]
    }
   ],
   "source": [
    "!pip install pandas"
   ]
  },
  {
   "cell_type": "code",
   "execution_count": 6,
   "id": "5d37a60e",
   "metadata": {},
   "outputs": [
    {
     "name": "stderr",
     "output_type": "stream",
     "text": [
      "[nltk_data] Downloading package stopwords to /Users/sana/nltk_data...\n",
      "[nltk_data]   Package stopwords is already up-to-date!\n"
     ]
    }
   ],
   "source": [
    "import numpy as np  \n",
    "import pandas as pd \n",
    "import re           \n",
    "import glob\n",
    "from bs4 import BeautifulSoup \n",
    "from keras.preprocessing.text import Tokenizer \n",
    "from keras.preprocessing.sequence import pad_sequences\n",
    "from nltk.corpus import stopwords   \n",
    "from tensorflow.keras.layers import Input, LSTM, Embedding, Dense, Concatenate, TimeDistributed, Bidirectional\n",
    "from tensorflow.keras.models import Model\n",
    "from tensorflow.keras.callbacks import EarlyStopping\n",
    "from tensorflow.keras.models import load_model\n",
    "import keras\n",
    "import warnings\n",
    "import nltk\n",
    "\n",
    "\n",
    "nltk.download('stopwords')\n",
    "pd.set_option(\"display.max_colwidth\", 200)\n",
    "warnings.filterwarnings(\"ignore\")"
   ]
  },
  {
   "cell_type": "code",
   "execution_count": 14,
   "id": "84a1ae4b",
   "metadata": {},
   "outputs": [],
   "source": [
    "# Reading Pickle'd file which has data stored in a dataframe\n",
    "# with headings: \"text\", \"filenames\", \"highlights\", \"body\"\n",
    "\n",
    "\n",
    "data = pd.read_pickle('/Users/sana/code/BertSumAbs/data/papers.pkl')"
   ]
  },
  {
   "cell_type": "markdown",
   "id": "979e3163",
   "metadata": {},
   "source": [
    "## Text Preprocessing"
   ]
  },
  {
   "cell_type": "code",
   "execution_count": 13,
   "id": "6f869a80",
   "metadata": {
    "scrolled": true
   },
   "outputs": [
    {
     "name": "stdout",
     "output_type": "stream",
     "text": [
      "Requirement already satisfied: spacy in /Users/sana/.pyenv/versions/3.8.6/envs/lewagon/lib/python3.8/site-packages (3.2.0)\n",
      "Requirement already satisfied: murmurhash<1.1.0,>=0.28.0 in /Users/sana/.pyenv/versions/3.8.6/envs/lewagon/lib/python3.8/site-packages (from spacy) (1.0.6)\n",
      "Requirement already satisfied: spacy-loggers<2.0.0,>=1.0.0 in /Users/sana/.pyenv/versions/3.8.6/envs/lewagon/lib/python3.8/site-packages (from spacy) (1.0.1)\n",
      "Collecting tqdm<5.0.0,>=4.38.0\n",
      "  Using cached tqdm-4.62.3-py2.py3-none-any.whl (76 kB)\n",
      "Requirement already satisfied: numpy>=1.15.0 in /Users/sana/.pyenv/versions/3.8.6/envs/lewagon/lib/python3.8/site-packages (from spacy) (1.17.2)\n",
      "Requirement already satisfied: wasabi<1.1.0,>=0.8.1 in /Users/sana/.pyenv/versions/3.8.6/envs/lewagon/lib/python3.8/site-packages (from spacy) (0.8.2)\n",
      "Requirement already satisfied: catalogue<2.1.0,>=2.0.6 in /Users/sana/.pyenv/versions/3.8.6/envs/lewagon/lib/python3.8/site-packages (from spacy) (2.0.6)\n",
      "Requirement already satisfied: jinja2 in /Users/sana/.pyenv/versions/3.8.6/envs/lewagon/lib/python3.8/site-packages (from spacy) (3.0.1)\n",
      "Requirement already satisfied: setuptools in /Users/sana/.pyenv/versions/3.8.6/envs/lewagon/lib/python3.8/site-packages (from spacy) (49.2.1)\n",
      "Requirement already satisfied: spacy-legacy<3.1.0,>=3.0.8 in /Users/sana/.pyenv/versions/3.8.6/envs/lewagon/lib/python3.8/site-packages (from spacy) (3.0.8)\n",
      "Requirement already satisfied: typer<0.5.0,>=0.3.0 in /Users/sana/.pyenv/versions/3.8.6/envs/lewagon/lib/python3.8/site-packages (from spacy) (0.4.0)\n",
      "Requirement already satisfied: blis<0.8.0,>=0.4.0 in /Users/sana/.pyenv/versions/3.8.6/envs/lewagon/lib/python3.8/site-packages (from spacy) (0.7.5)\n",
      "Requirement already satisfied: cymem<2.1.0,>=2.0.2 in /Users/sana/.pyenv/versions/3.8.6/envs/lewagon/lib/python3.8/site-packages (from spacy) (2.0.6)\n",
      "Requirement already satisfied: pydantic!=1.8,!=1.8.1,<1.9.0,>=1.7.4 in /Users/sana/.pyenv/versions/3.8.6/envs/lewagon/lib/python3.8/site-packages (from spacy) (1.8.2)\n",
      "Requirement already satisfied: thinc<8.1.0,>=8.0.12 in /Users/sana/.pyenv/versions/3.8.6/envs/lewagon/lib/python3.8/site-packages (from spacy) (8.0.13)\n",
      "Requirement already satisfied: preshed<3.1.0,>=3.0.2 in /Users/sana/.pyenv/versions/3.8.6/envs/lewagon/lib/python3.8/site-packages (from spacy) (3.0.6)\n",
      "Requirement already satisfied: pathy>=0.3.5 in /Users/sana/.pyenv/versions/3.8.6/envs/lewagon/lib/python3.8/site-packages (from spacy) (0.6.1)\n",
      "Requirement already satisfied: requests<3.0.0,>=2.13.0 in /Users/sana/.pyenv/versions/3.8.6/envs/lewagon/lib/python3.8/site-packages (from spacy) (2.25.1)\n",
      "Requirement already satisfied: langcodes<4.0.0,>=3.2.0 in /Users/sana/.pyenv/versions/3.8.6/envs/lewagon/lib/python3.8/site-packages (from spacy) (3.3.0)\n",
      "Requirement already satisfied: packaging>=20.0 in /Users/sana/.pyenv/versions/3.8.6/envs/lewagon/lib/python3.8/site-packages (from spacy) (20.9)\n",
      "Requirement already satisfied: srsly<3.0.0,>=2.4.1 in /Users/sana/.pyenv/versions/3.8.6/envs/lewagon/lib/python3.8/site-packages (from spacy) (2.4.2)\n",
      "Requirement already satisfied: pyparsing>=2.0.2 in /Users/sana/.pyenv/versions/3.8.6/envs/lewagon/lib/python3.8/site-packages (from packaging>=20.0->spacy) (2.4.7)\n",
      "Requirement already satisfied: smart-open<6.0.0,>=5.0.0 in /Users/sana/.pyenv/versions/3.8.6/envs/lewagon/lib/python3.8/site-packages (from pathy>=0.3.5->spacy) (5.2.1)\n",
      "Requirement already satisfied: typing-extensions>=3.7.4.3 in /Users/sana/.pyenv/versions/3.8.6/envs/lewagon/lib/python3.8/site-packages (from pydantic!=1.8,!=1.8.1,<1.9.0,>=1.7.4->spacy) (3.10.0.2)\n",
      "Requirement already satisfied: certifi>=2017.4.17 in /Users/sana/.pyenv/versions/3.8.6/envs/lewagon/lib/python3.8/site-packages (from requests<3.0.0,>=2.13.0->spacy) (2021.5.30)\n",
      "Requirement already satisfied: idna<3,>=2.5 in /Users/sana/.pyenv/versions/3.8.6/envs/lewagon/lib/python3.8/site-packages (from requests<3.0.0,>=2.13.0->spacy) (2.10)\n",
      "Requirement already satisfied: chardet<5,>=3.0.2 in /Users/sana/.pyenv/versions/3.8.6/envs/lewagon/lib/python3.8/site-packages (from requests<3.0.0,>=2.13.0->spacy) (4.0.0)\n",
      "Requirement already satisfied: urllib3<1.27,>=1.21.1 in /Users/sana/.pyenv/versions/3.8.6/envs/lewagon/lib/python3.8/site-packages (from requests<3.0.0,>=2.13.0->spacy) (1.26.6)\n",
      "Requirement already satisfied: click<9.0.0,>=7.1.1 in /Users/sana/.pyenv/versions/3.8.6/envs/lewagon/lib/python3.8/site-packages (from typer<0.5.0,>=0.3.0->spacy) (7.1.2)\n",
      "Requirement already satisfied: MarkupSafe>=2.0 in /Users/sana/.pyenv/versions/3.8.6/envs/lewagon/lib/python3.8/site-packages (from jinja2->spacy) (2.0.1)\n",
      "Installing collected packages: tqdm\n",
      "  Attempting uninstall: tqdm\n",
      "    Found existing installation: tqdm 4.36.1\n",
      "    Uninstalling tqdm-4.36.1:\n",
      "      Successfully uninstalled tqdm-4.36.1\n",
      "\u001b[31mERROR: pip's dependency resolver does not currently take into account all the packages that are installed. This behaviour is the source of the following dependency conflicts.\n",
      "simpletaxifare 1.0 requires numpy==1.18.5, but you have numpy 1.17.2 which is incompatible.\n",
      "simpletaxifare 1.0 requires six==1.15.0, but you have six 1.14.0 which is incompatible.\n",
      "taxifaremodel 1.0 requires numpy==1.18.5, but you have numpy 1.17.2 which is incompatible.\u001b[0m\n",
      "Successfully installed tqdm-4.62.3\n"
     ]
    }
   ],
   "source": [
    "!pip install spacy"
   ]
  },
  {
   "cell_type": "code",
   "execution_count": 15,
   "id": "236d21f6",
   "metadata": {},
   "outputs": [],
   "source": [
    "from spacy.lang.en.stop_words import STOP_WORDS\n",
    " \n",
    "def clean_body(text):\n",
    "    newText = text.lower()\n",
    "    newText = re.sub('[^\\w\\s\\d\\.]','',newText)\n",
    "    newText = ' '.join(newText.split())\n",
    "    tokens = [w for w in newText.split() if not w in STOP_WORDS]\n",
    "    long_words=[]\n",
    "    for i in tokens:\n",
    "        if len(i)>=3:\n",
    "            long_words.append(i)   \n",
    "    return (\" \".join(long_words)).strip()\n",
    "\n",
    "cleaned_body = []\n",
    "for t in data['body']:\n",
    "    cleaned_body.append(clean_body(t))\n",
    "\n",
    "#cleaned_body[:5]"
   ]
  },
  {
   "cell_type": "code",
   "execution_count": 16,
   "id": "8c6fe834",
   "metadata": {},
   "outputs": [],
   "source": [
    "# Preprocessing \"highlight\" text\n",
    "\n",
    "\n",
    "def clean_highlight(text):\n",
    "  newText = text.lower()\n",
    "  newText = re.sub('[^\\w\\s\\d\\.]','',newText)\n",
    "  newText = ' '.join(newText.split())\n",
    "  newText = '_START_ '+ newText + ' _END_'\n",
    "  return newText\n",
    "\n",
    "cleaned_highlight = []\n",
    "for t in data['highlights']:\n",
    "    cleaned_highlight.append(clean_highlight(t))\n",
    "\n",
    "#cleaned_highlight[:5]"
   ]
  },
  {
   "cell_type": "code",
   "execution_count": 17,
   "id": "90a2a353",
   "metadata": {},
   "outputs": [],
   "source": [
    "# Storing preprocessed data in the dataframe\n",
    "\n",
    "\n",
    "data['cleaned_highlights'] = cleaned_highlight\n",
    "data['cleaned_body'] = cleaned_body"
   ]
  },
  {
   "cell_type": "code",
   "execution_count": 18,
   "id": "8485fa89",
   "metadata": {},
   "outputs": [],
   "source": [
    "data = data[:5000]"
   ]
  },
  {
   "cell_type": "code",
   "execution_count": 19,
   "id": "e3a1856e",
   "metadata": {},
   "outputs": [
    {
     "name": "stdout",
     "output_type": "stream",
     "text": [
      "<class 'pandas.core.frame.DataFrame'>\n",
      "Int64Index: 5000 entries, 27 to 6950\n",
      "Data columns (total 6 columns):\n",
      " #   Column              Non-Null Count  Dtype \n",
      "---  ------              --------------  ----- \n",
      " 0   text                5000 non-null   object\n",
      " 1   filenames           5000 non-null   object\n",
      " 2   highlights          5000 non-null   object\n",
      " 3   body                5000 non-null   object\n",
      " 4   cleaned_highlights  5000 non-null   object\n",
      " 5   cleaned_body        5000 non-null   object\n",
      "dtypes: object(6)\n",
      "memory usage: 273.4+ KB\n"
     ]
    }
   ],
   "source": [
    "data.info()"
   ]
  },
  {
   "cell_type": "code",
   "execution_count": 20,
   "id": "8f9c364f",
   "metadata": {},
   "outputs": [
    {
     "data": {
      "image/png": "[encoded data removed]",
      "text/plain": [
       "<Figure size 432x288 with 2 Axes>"
      ]
     },
     "metadata": {
      "needs_background": "light"
     },
     "output_type": "display_data"
    }
   ],
   "source": [
    "import matplotlib.pyplot as plt\n",
    "\n",
    "text_word_count = []\n",
    "summary_word_count = []\n",
    "\n",
    "for i in data['cleaned_body']:\n",
    "      text_word_count.append(len(i.split()))\n",
    "\n",
    "for i in data['cleaned_highlights']:\n",
    "      summary_word_count.append(len(i.split()))\n",
    "\n",
    "length_df = pd.DataFrame({'Body':text_word_count, 'Highlights':summary_word_count})\n",
    "length_df.hist(bins = 30)\n",
    "plt.show()"
   ]
  },
  {
   "cell_type": "code",
   "execution_count": 21,
   "id": "a98454ce",
   "metadata": {},
   "outputs": [],
   "source": [
    "\n",
    "max_len_body = 1000\n",
    "max_len_highlight = 50"
   ]
  },
  {
   "cell_type": "code",
   "execution_count": 22,
   "id": "8e12525c",
   "metadata": {},
   "outputs": [],
   "source": [
    "\n",
    "# Converting cleaned data into strings\n",
    "\n",
    "\n",
    "data.cleaned_body = data.cleaned_body.apply(lambda x: str(x))\n",
    "data.cleaned_highlights = data.cleaned_highlights.apply(lambda x: str(x))"
   ]
  },
  {
   "cell_type": "code",
   "execution_count": 23,
   "id": "8fec74ac",
   "metadata": {},
   "outputs": [],
   "source": [
    "# Splitting data into training and test sets\n",
    "# Test set is 20% of total data\n",
    "\n",
    "\n",
    "from sklearn.model_selection import train_test_split\n",
    "x_train,x_test,y_train,y_test=train_test_split(data['cleaned_body'],data['cleaned_highlights'],test_size=0.2,random_state=0,shuffle=True)"
   ]
  },
  {
   "cell_type": "code",
   "execution_count": 24,
   "id": "431239d4",
   "metadata": {},
   "outputs": [],
   "source": [
    "# Tokenizing \"body\"\n",
    "x_tok = Tokenizer()\n",
    "x_tok.fit_on_texts(list(x_train))\n",
    "\n",
    "# Converting text to number sequences\n",
    "x_train = x_tok.texts_to_sequences(x_train) \n",
    "x_test = x_tok.texts_to_sequences(x_test)\n",
    "\n",
    "# Padding zero upto maximum length\n",
    "x_train = pad_sequences(x_train,  maxlen=max_len_body, padding='post') \n",
    "x_test = pad_sequences(x_test, maxlen=max_len_body, padding='post')\n",
    "\n",
    "# Total number of words\n",
    "x_vocab_size = len(x_tok.word_index) +1"
   ]
  },
  {
   "cell_type": "code",
   "execution_count": 25,
   "id": "b14f5273",
   "metadata": {},
   "outputs": [],
   "source": [
    "# Tokenizing \"highlights\"\n",
    "y_tok = Tokenizer()\n",
    "y_tok.fit_on_texts(list(y_train))\n",
    "\n",
    "# Converting text to number sequences\n",
    "y_train = y_tok.texts_to_sequences(y_train) \n",
    "y_test = y_tok.texts_to_sequences(y_test)\n",
    "\n",
    "# Padding zero upto maximum length\n",
    "y_train = pad_sequences(y_train,  maxlen=max_len_highlight, padding='post') \n",
    "y_test = pad_sequences(y_test, maxlen=max_len_highlight, padding='post')\n",
    "\n",
    "# Word count\n",
    "y_vocab_size = len(y_tok.word_index) +1"
   ]
  },
  {
   "cell_type": "markdown",
   "id": "651eaa95",
   "metadata": {},
   "source": [
    "## Model Definition"
   ]
  },
  {
   "cell_type": "markdown",
   "id": "853b9250",
   "metadata": {},
   "source": [
    "\n",
    "Attention Layer required to remember context information. As there is no Keras implementation for Attention Layer we have found a third-party resource to aid in our model. Reference: https://github.com/thushv89/attention_keras/blob/master/layers/attention.py"
   ]
  },
  {
   "cell_type": "code",
   "execution_count": 26,
   "id": "71f62d57",
   "metadata": {},
   "outputs": [],
   "source": [
    "import tensorflow as tf\n",
    "import os\n",
    "from tensorflow.python.keras.layers import Layer\n",
    "from tensorflow.python.keras import backend as K\n",
    "\n",
    "\n",
    "class AttentionLayer(Layer):\n",
    "    \"\"\"\n",
    "    This class implements Bahdanau attention (https://arxiv.org/pdf/1409.0473.pdf).\n",
    "    There are three sets of weights introduced W_a, U_a, and V_a\n",
    "     \"\"\"\n",
    "\n",
    "    def __init__(self, **kwargs):\n",
    "        super(AttentionLayer, self).__init__(**kwargs)\n",
    "\n",
    "    def build(self, input_shape):\n",
    "        assert isinstance(input_shape, list)\n",
    "        # Create a trainable weight variable for this layer.\n",
    "\n",
    "        self.W_a = self.add_weight(name='W_a',\n",
    "                                   shape=tf.TensorShape((input_shape[0][2], input_shape[0][2])),\n",
    "                                   initializer='uniform',\n",
    "                                   trainable=True)\n",
    "        self.U_a = self.add_weight(name='U_a',\n",
    "                                   shape=tf.TensorShape((input_shape[1][2], input_shape[0][2])),\n",
    "                                   initializer='uniform',\n",
    "                                   trainable=True)\n",
    "        self.V_a = self.add_weight(name='V_a',\n",
    "                                   shape=tf.TensorShape((input_shape[0][2], 1)),\n",
    "                                   initializer='uniform',\n",
    "                                   trainable=True)\n",
    "\n",
    "        super(AttentionLayer, self).build(input_shape)  # Be sure to call this at the end\n",
    "\n",
    "    def call(self, inputs, verbose=False):\n",
    "        \"\"\"\n",
    "        inputs: [encoder_output_sequence, decoder_output_sequence]\n",
    "        \"\"\"\n",
    "        assert type(inputs) == list\n",
    "        encoder_out_seq, decoder_out_seq = inputs\n",
    "        if verbose:\n",
    "            print('encoder_out_seq>', encoder_out_seq.shape)\n",
    "            print('decoder_out_seq>', decoder_out_seq.shape)\n",
    "\n",
    "        def energy_step(inputs, states):\n",
    "            \"\"\" Step function for computing energy for a single decoder state \"\"\"\n",
    "\n",
    "            assert_msg = \"States must be a list. However states {} is of type {}\".format(states, type(states))\n",
    "            assert isinstance(states, list) or isinstance(states, tuple), assert_msg\n",
    "\n",
    "            \"\"\" Some parameters required for shaping tensors\"\"\"\n",
    "            en_seq_len, en_hidden = encoder_out_seq.shape[1], encoder_out_seq.shape[2]\n",
    "            de_hidden = inputs.shape[-1]\n",
    "\n",
    "            \"\"\" Computing S.Wa where S=[s0, s1, ..., si]\"\"\"\n",
    "            # <= batch_size*en_seq_len, latent_dim\n",
    "            reshaped_enc_outputs = K.reshape(encoder_out_seq, (-1, en_hidden))\n",
    "            # <= batch_size*en_seq_len, latent_dim\n",
    "            W_a_dot_s = K.reshape(K.dot(reshaped_enc_outputs, self.W_a), (-1, en_seq_len, en_hidden))\n",
    "            if verbose:\n",
    "                print('wa.s>',W_a_dot_s.shape)\n",
    "\n",
    "            \"\"\" Computing hj.Ua \"\"\"\n",
    "            U_a_dot_h = K.expand_dims(K.dot(inputs, self.U_a), 1)  # <= batch_size, 1, latent_dim\n",
    "            if verbose:\n",
    "                print('Ua.h>',U_a_dot_h.shape)\n",
    "\n",
    "            \"\"\" tanh(S.Wa + hj.Ua) \"\"\"\n",
    "            # <= batch_size*en_seq_len, latent_dim\n",
    "            reshaped_Ws_plus_Uh = K.tanh(K.reshape(W_a_dot_s + U_a_dot_h, (-1, en_hidden)))\n",
    "            if verbose:\n",
    "                print('Ws+Uh>', reshaped_Ws_plus_Uh.shape)\n",
    "\n",
    "            \"\"\" softmax(va.tanh(S.Wa + hj.Ua)) \"\"\"\n",
    "            # <= batch_size, en_seq_len\n",
    "            e_i = K.reshape(K.dot(reshaped_Ws_plus_Uh, self.V_a), (-1, en_seq_len))\n",
    "            # <= batch_size, en_seq_len\n",
    "            e_i = K.softmax(e_i)\n",
    "\n",
    "            if verbose:\n",
    "                print('ei>', e_i.shape)\n",
    "\n",
    "            return e_i, [e_i]\n",
    "\n",
    "        def context_step(inputs, states):\n",
    "            \"\"\" Step function for computing ci using ei \"\"\"\n",
    "            # <= batch_size, hidden_size\n",
    "            c_i = K.sum(encoder_out_seq * K.expand_dims(inputs, -1), axis=1)\n",
    "            if verbose:\n",
    "                print('ci>', c_i.shape)\n",
    "            return c_i, [c_i]\n",
    "\n",
    "        def create_inital_state(inputs, hidden_size):\n",
    "            # We are not using initial states, but need to pass something to K.rnn funciton\n",
    "            fake_state = K.zeros_like(inputs)  # <= (batch_size, enc_seq_len, latent_dim\n",
    "            fake_state = K.sum(fake_state, axis=[1, 2])  # <= (batch_size)\n",
    "            fake_state = K.expand_dims(fake_state)  # <= (batch_size, 1)\n",
    "            fake_state = K.tile(fake_state, [1, hidden_size])  # <= (batch_size, latent_dim\n",
    "            return fake_state\n",
    "\n",
    "        fake_state_c = create_inital_state(encoder_out_seq, encoder_out_seq.shape[-1])\n",
    "        fake_state_e = create_inital_state(encoder_out_seq, encoder_out_seq.shape[1])  # <= (batch_size, enc_seq_len, latent_dim\n",
    "\n",
    "        \"\"\" Computing energy outputs \"\"\"\n",
    "        # e_outputs => (batch_size, de_seq_len, en_seq_len)\n",
    "        last_out, e_outputs, _ = K.rnn(\n",
    "            energy_step, decoder_out_seq, [fake_state_e],\n",
    "        )\n",
    "\n",
    "        \"\"\" Computing context vectors \"\"\"\n",
    "        last_out, c_outputs, _ = K.rnn(\n",
    "            context_step, e_outputs, [fake_state_c],\n",
    "        )\n",
    "\n",
    "        return c_outputs, e_outputs\n",
    "\n",
    "    def compute_output_shape(self, input_shape):\n",
    "        \"\"\" Outputs produced by the layer \"\"\"\n",
    "        return [\n",
    "            tf.TensorShape((input_shape[1][0], input_shape[1][1], input_shape[1][2])),\n",
    "            tf.TensorShape((input_shape[1][0], input_shape[1][1], input_shape[0][1]))\n",
    "        ]"
   ]
  },
  {
   "cell_type": "markdown",
   "id": "d7ac4683",
   "metadata": {},
   "source": [
    "\n",
    "## Model Creation"
   ]
  },
  {
   "cell_type": "code",
   "execution_count": 27,
   "id": "a2af2915",
   "metadata": {},
   "outputs": [
    {
     "name": "stderr",
     "output_type": "stream",
     "text": [
      "2021-11-14 14:43:34.132150: I tensorflow/core/platform/cpu_feature_guard.cc:142] This TensorFlow binary is optimized with oneAPI Deep Neural Network Library (oneDNN) to use the following CPU instructions in performance-critical operations:  AVX2 FMA\n",
      "To enable them in other operations, rebuild TensorFlow with the appropriate compiler flags.\n"
     ]
    },
    {
     "name": "stdout",
     "output_type": "stream",
     "text": [
      "Model: \"model\"\n",
      "__________________________________________________________________________________________________\n",
      "Layer (type)                    Output Shape         Param #     Connected to                     \n",
      "==================================================================================================\n",
      "input_1 (InputLayer)            [(None, 1000)]       0                                            \n",
      "__________________________________________________________________________________________________\n",
      "embedding (Embedding)           (None, 1000, 50)     12730400    input_1[0][0]                    \n",
      "__________________________________________________________________________________________________\n",
      "lstm (LSTM)                     [(None, 1000, 50), ( 20200       embedding[0][0]                  \n",
      "__________________________________________________________________________________________________\n",
      "input_2 (InputLayer)            [(None, None)]       0                                            \n",
      "__________________________________________________________________________________________________\n",
      "lstm_1 (LSTM)                   [(None, 1000, 50), ( 20200       lstm[0][0]                       \n",
      "__________________________________________________________________________________________________\n",
      "embedding_1 (Embedding)         (None, None, 50)     819550      input_2[0][0]                    \n",
      "__________________________________________________________________________________________________\n",
      "lstm_2 (LSTM)                   [(None, 1000, 50), ( 20200       lstm_1[0][0]                     \n",
      "__________________________________________________________________________________________________\n",
      "lstm_3 (LSTM)                   [(None, None, 50), ( 20200       embedding_1[0][0]                \n",
      "                                                                 lstm_2[0][1]                     \n",
      "                                                                 lstm_2[0][2]                     \n",
      "__________________________________________________________________________________________________\n",
      "attention_layer (AttentionLayer ((None, None, 50), ( 5050        lstm_2[0][0]                     \n",
      "                                                                 lstm_3[0][0]                     \n",
      "__________________________________________________________________________________________________\n",
      "concat_layer (Concatenate)      (None, None, 100)    0           lstm_3[0][0]                     \n",
      "                                                                 attention_layer[0][0]            \n",
      "__________________________________________________________________________________________________\n",
      "time_distributed (TimeDistribut (None, None, 16391)  1655491     concat_layer[0][0]               \n",
      "==================================================================================================\n",
      "Total params: 15,291,291\n",
      "Trainable params: 15,291,291\n",
      "Non-trainable params: 0\n",
      "__________________________________________________________________________________________________\n"
     ]
    }
   ],
   "source": [
    "from keras import backend as K \n",
    "\n",
    "\n",
    "K.clear_session() \n",
    "latent_dim = 50 \n",
    "\n",
    "\n",
    "# Encoder \n",
    "encoder_inputs = Input(shape=(max_len_body,)) \n",
    "enc_emb = Embedding(x_vocab_size, latent_dim,trainable=True)(encoder_inputs) \n",
    "\n",
    "# 1st LSTM Layer\n",
    "encoder_lstm1 = LSTM(latent_dim,return_sequences=True,return_state=True) \n",
    "encoder_output1, state_h1, state_c1 = encoder_lstm1(enc_emb) \n",
    "\n",
    "# 2nd LSTM Layer\n",
    "encoder_lstm2 = LSTM(latent_dim,return_sequences=True,return_state=True) \n",
    "encoder_output2, state_h2, state_c2 = encoder_lstm2(encoder_output1) \n",
    "\n",
    "# 3rd LSTM Layer\n",
    "encoder_lstm3=LSTM(latent_dim, return_state=True, return_sequences=True) \n",
    "encoder_outputs, state_h, state_c= encoder_lstm3(encoder_output2) \n",
    "\n",
    "# Decoder \n",
    "decoder_inputs = Input(shape=(None,)) \n",
    "dec_emb_layer = Embedding(y_vocab_size, latent_dim,trainable=True) \n",
    "dec_emb = dec_emb_layer(decoder_inputs) \n",
    "\n",
    "# LSTM using encoder_states as initial state\n",
    "decoder_lstm = LSTM(latent_dim, return_sequences=True, return_state=True) \n",
    "decoder_outputs,decoder_fwd_state, decoder_back_state = decoder_lstm(dec_emb,initial_state=[state_h, state_c]) \n",
    "\n",
    "# Attention Layer\n",
    "attn_layer = AttentionLayer(name='attention_layer') \n",
    "attn_out, attn_states = attn_layer([encoder_outputs, decoder_outputs]) \n",
    "\n",
    "# Concat attention output and decoder LSTM output \n",
    "decoder_concat_input = Concatenate(axis=-1, name='concat_layer')([decoder_outputs, attn_out])\n",
    "\n",
    "# Dense layer\n",
    "decoder_dense = TimeDistributed(Dense(y_vocab_size, activation='softmax')) \n",
    "decoder_outputs = decoder_dense(decoder_concat_input) \n",
    "\n",
    "# Model Definition\n",
    "model = Model([encoder_inputs, decoder_inputs], decoder_outputs) \n",
    "model.summary()"
   ]
  },
  {
   "cell_type": "markdown",
   "id": "e7b0cfae",
   "metadata": {},
   "source": [
    "RMSProp was found to be the best optimizer for text summarization and sparse categorical crossentropy was found to be the best loss functiom from this reference: https://hackernoon.com/text-summarization-using-keras-models-366b002408d9\n",
    "Sparse categorical cross entropy is used as the loss function because it automatically converts an integer sequence to a one-hot encoded vector, hence requiring less memory."
   ]
  },
  {
   "cell_type": "code",
   "execution_count": 28,
   "id": "0389a7f9",
   "metadata": {},
   "outputs": [],
   "source": [
    "model.compile(optimizer='rmsprop', loss='sparse_categorical_crossentropy')"
   ]
  },
  {
   "cell_type": "code",
   "execution_count": 29,
   "id": "8756dfae",
   "metadata": {},
   "outputs": [],
   "source": [
    "es = EarlyStopping(patience = 3, monitor='val_loss', mode='min', verbose=1)"
   ]
  },
  {
   "cell_type": "markdown",
   "id": "0cc61a65",
   "metadata": {},
   "source": [
    "## Model Training"
   ]
  },
  {
   "cell_type": "code",
   "execution_count": 30,
   "id": "d5dc8ae6",
   "metadata": {
    "scrolled": true
   },
   "outputs": [
    {
     "data": {
      "text/plain": [
       "(4000, 1000)"
      ]
     },
     "execution_count": 30,
     "metadata": {},
     "output_type": "execute_result"
    }
   ],
   "source": [
    "x_train.shape"
   ]
  },
  {
   "cell_type": "code",
   "execution_count": 31,
   "id": "f06686c3",
   "metadata": {},
   "outputs": [
    {
     "data": {
      "text/plain": [
       "(4000, 49)"
      ]
     },
     "execution_count": 31,
     "metadata": {},
     "output_type": "execute_result"
    }
   ],
   "source": [
    "y_train[:,:-1].shape"
   ]
  },
  {
   "cell_type": "code",
   "execution_count": 32,
   "id": "912e4537",
   "metadata": {},
   "outputs": [
    {
     "data": {
      "text/plain": [
       "(4000, 49, 1)"
      ]
     },
     "execution_count": 32,
     "metadata": {},
     "output_type": "execute_result"
    }
   ],
   "source": [
    "y_train.reshape(y_train.shape[0], y_train.shape[1], 1)[:,1:].shape"
   ]
  },
  {
   "cell_type": "code",
   "execution_count": 33,
   "id": "f5c01ecf",
   "metadata": {
    "scrolled": true
   },
   "outputs": [
    {
     "name": "stderr",
     "output_type": "stream",
     "text": [
      "2021-11-14 14:44:22.344587: I tensorflow/compiler/mlir/mlir_graph_optimization_pass.cc:176] None of the MLIR Optimization Passes are enabled (registered 2)\n"
     ]
    },
    {
     "name": "stdout",
     "output_type": "stream",
     "text": [
      "Epoch 1/30\n",
      "32/32 [==============================] - 381s 12s/step - loss: 8.0085 - val_loss: 6.6266\n",
      "Epoch 2/30\n",
      "32/32 [==============================] - 322s 10s/step - loss: 6.8006 - val_loss: 6.4239\n",
      "Epoch 3/30\n",
      "32/32 [==============================] - 287s 9s/step - loss: 6.6769 - val_loss: 6.2732\n",
      "Epoch 4/30\n",
      "32/32 [==============================] - 351s 11s/step - loss: 6.5423 - val_loss: 6.1374\n",
      "Epoch 5/30\n",
      "32/32 [==============================] - 391s 12s/step - loss: 6.4434 - val_loss: 6.0567\n",
      "Epoch 6/30\n",
      "32/32 [==============================] - 337s 10s/step - loss: 6.3655 - val_loss: 5.9900\n",
      "Epoch 7/30\n",
      "32/32 [==============================] - 308s 10s/step - loss: 6.2972 - val_loss: 5.9391\n",
      "Epoch 8/30\n",
      "32/32 [==============================] - 322s 10s/step - loss: 6.2369 - val_loss: 5.9042\n",
      "Epoch 9/30\n",
      "32/32 [==============================] - 335s 10s/step - loss: 6.1875 - val_loss: 5.8734\n",
      "Epoch 10/30\n",
      "32/32 [==============================] - 351s 11s/step - loss: 6.1343 - val_loss: 5.8462\n",
      "Epoch 11/30\n",
      "32/32 [==============================] - 357s 11s/step - loss: 6.0882 - val_loss: 5.8276\n",
      "Epoch 12/30\n",
      "32/32 [==============================] - 342s 11s/step - loss: 6.0520 - val_loss: 5.7962\n",
      "Epoch 13/30\n",
      "32/32 [==============================] - 323s 10s/step - loss: 5.9943 - val_loss: 5.7838\n",
      "Epoch 14/30\n",
      "32/32 [==============================] - 333s 10s/step - loss: 5.9533 - val_loss: 5.7540\n",
      "Epoch 15/30\n",
      "32/32 [==============================] - 329s 10s/step - loss: 5.9179 - val_loss: 5.7711\n",
      "Epoch 16/30\n",
      "32/32 [==============================] - 321s 10s/step - loss: 5.8800 - val_loss: 5.7093\n",
      "Epoch 17/30\n",
      "32/32 [==============================] - 337s 11s/step - loss: 5.8423 - val_loss: 5.7007\n",
      "Epoch 18/30\n",
      "32/32 [==============================] - 344s 11s/step - loss: 5.8024 - val_loss: 5.6838\n",
      "Epoch 19/30\n",
      "32/32 [==============================] - 318s 10s/step - loss: 5.7706 - val_loss: 5.6501\n",
      "Epoch 20/30\n",
      "32/32 [==============================] - 324s 10s/step - loss: 5.7236 - val_loss: 5.6314\n",
      "Epoch 21/30\n",
      "32/32 [==============================] - 328s 10s/step - loss: 5.6839 - val_loss: 5.6034\n",
      "Epoch 22/30\n",
      "32/32 [==============================] - 332s 10s/step - loss: 5.6432 - val_loss: 5.5943\n",
      "Epoch 23/30\n",
      "32/32 [==============================] - 352s 11s/step - loss: 5.6091 - val_loss: 5.5607\n",
      "Epoch 24/30\n",
      "32/32 [==============================] - 319s 10s/step - loss: 5.5684 - val_loss: 5.5474\n",
      "Epoch 25/30\n",
      "32/32 [==============================] - 324s 10s/step - loss: 5.5295 - val_loss: 5.5324\n",
      "Epoch 26/30\n",
      "32/32 [==============================] - 313s 10s/step - loss: 5.4980 - val_loss: 5.5068\n",
      "Epoch 27/30\n",
      "32/32 [==============================] - 318s 10s/step - loss: 5.4611 - val_loss: 5.4924\n",
      "Epoch 28/30\n",
      "32/32 [==============================] - 314s 10s/step - loss: 5.4303 - val_loss: 5.4835\n",
      "Epoch 29/30\n",
      "32/32 [==============================] - 325s 10s/step - loss: 5.3923 - val_loss: 5.4827\n",
      "Epoch 30/30\n",
      "32/32 [==============================] - 313s 10s/step - loss: 5.3612 - val_loss: 5.4693\n"
     ]
    }
   ],
   "source": [
    "history = model.fit([x_train,y_train[:,:-1]], \n",
    "                    y_train.reshape(y_train.shape[0], y_train.shape[1], 1)[:,1:],\n",
    "                    epochs=30, callbacks=[es],\n",
    "                    batch_size=128,\n",
    "                    validation_data=([x_test,y_test[:,:-1]], y_test.reshape(y_test.shape[0],y_test.shape[1], 1)[:,1:]))"
   ]
  },
  {
   "cell_type": "code",
   "execution_count": 27,
   "id": "17244244",
   "metadata": {},
   "outputs": [
    {
     "data": {
      "text/plain": [
       "'/Users/sana/code/BertSumAbs'"
      ]
     },
     "execution_count": 27,
     "metadata": {},
     "output_type": "execute_result"
    }
   ],
   "source": [
    "pwd"
   ]
  },
  {
   "cell_type": "code",
   "execution_count": 34,
   "id": "1e65c7e5",
   "metadata": {},
   "outputs": [
    {
     "name": "stderr",
     "output_type": "stream",
     "text": [
      "2021-11-14 17:32:20.158377: W tensorflow/python/util/util.cc:348] Sets are not currently considered sequences, but this may change in the future, so consider avoiding using them.\n",
      "WARNING:absl:Found untraced functions such as lstm_cell_layer_call_and_return_conditional_losses, lstm_cell_layer_call_fn, lstm_cell_1_layer_call_and_return_conditional_losses, lstm_cell_1_layer_call_fn, lstm_cell_2_layer_call_and_return_conditional_losses while saving (showing 5 of 20). These functions will not be directly callable after loading.\n"
     ]
    },
    {
     "name": "stdout",
     "output_type": "stream",
     "text": [
      "INFO:tensorflow:Assets written to: /Users/sana/code/BertSumAbs/assets\n"
     ]
    },
    {
     "name": "stderr",
     "output_type": "stream",
     "text": [
      "INFO:tensorflow:Assets written to: /Users/sana/code/BertSumAbs/assets\n"
     ]
    }
   ],
   "source": [
    "model.save('/Users/sana/code/BertSumAbs')"
   ]
  },
  {
   "cell_type": "code",
   "execution_count": 35,
   "id": "ceb47543",
   "metadata": {},
   "outputs": [
    {
     "data": {
      "image/png": "[encoded data removed]",
      "text/plain": [
       "<Figure size 432x288 with 1 Axes>"
      ]
     },
     "metadata": {
      "needs_background": "light"
     },
     "output_type": "display_data"
    }
   ],
   "source": [
    "# Visualizing training ans test loss functions\n",
    "\n",
    "\n",
    "from matplotlib import pyplot \n",
    "pyplot.plot(history.history['loss'], label='train') \n",
    "pyplot.plot(history.history['val_loss'], label='test') \n",
    "pyplot.legend() \n",
    "pyplot.show()"
   ]
  },
  {
   "cell_type": "code",
   "execution_count": 36,
   "id": "6e81c99e",
   "metadata": {},
   "outputs": [],
   "source": [
    "reverse_target_word_index=y_tok.index_word \n",
    "reverse_source_word_index=x_tok.index_word \n",
    "target_word_index=y_tok.word_index"
   ]
  },
  {
   "cell_type": "code",
   "execution_count": 37,
   "id": "b5e4649a",
   "metadata": {},
   "outputs": [],
   "source": [
    "# Encoder Inference\n",
    "encoder_model = Model(inputs=encoder_inputs,outputs=[encoder_outputs, state_h, state_c])\n",
    "\n",
    "# Decoder Inference\n",
    "# Below tensors hold the states of the previous time step\n",
    "decoder_state_input_h = Input(shape=(latent_dim,))\n",
    "decoder_state_input_c = Input(shape=(latent_dim,))\n",
    "decoder_hidden_state_input = Input(shape=(max_len_body,latent_dim))\n",
    "\n",
    "# Getting decoder sequence embeddings\n",
    "dec_emb2= dec_emb_layer(decoder_inputs)\n",
    "\n",
    "# Predicting the next word in the sequence\n",
    "# Setting the initial states to the previous time step states\n",
    "decoder_outputs2, state_h2, state_c2 = decoder_lstm(dec_emb2, initial_state=[decoder_state_input_h, decoder_state_input_c])\n",
    "\n",
    "# Attention Inference\n",
    "attn_out_inf, attn_states_inf = attn_layer([decoder_hidden_state_input, decoder_outputs2])\n",
    "decoder_inf_concat = Concatenate(axis=-1, name='concat')([decoder_outputs2, attn_out_inf])\n",
    "\n",
    "# Dense softmax layer to calculate probability distribution over target vocab\n",
    "decoder_outputs2 = decoder_dense(decoder_inf_concat)\n",
    "\n",
    "# Final Decoder model\n",
    "decoder_model = Model(\n",
    "[decoder_inputs] + [decoder_hidden_state_input,decoder_state_input_h, decoder_state_input_c],\n",
    "[decoder_outputs2] + [state_h2, state_c2])"
   ]
  },
  {
   "cell_type": "code",
   "execution_count": 38,
   "id": "7ca60bc1",
   "metadata": {},
   "outputs": [],
   "source": [
    "# Function to implement inference\n",
    "\n",
    "\n",
    "\n",
    "def decode_sequence(input_seq):\n",
    "    # Encoding input as state vectors\n",
    "    e_out, e_h, e_c = encoder_model.predict(input_seq)\n",
    "\n",
    "    # Generating empty target sequence of length 1\n",
    "    target_seq = np.zeros((1,1))\n",
    "\n",
    "    # Taking the 'start' word as the first word of the target sequence\n",
    "    target_seq[0, 0] = target_word_index['start']\n",
    "\n",
    "    stop_condition = False\n",
    "    decoded_sentence = ''\n",
    "    while not stop_condition:\n",
    "        output_tokens, h, c = decoder_model.predict([target_seq] + [e_out, e_h, e_c])\n",
    "\n",
    "        # Sample token\n",
    "        sampled_token_index = np.argmax(output_tokens[0, -1, :])\n",
    "        try:\n",
    "            sampled_token = reverse_target_word_index[sampled_token_index]\n",
    "        except:\n",
    "            sampled_token = reverse_target_word_index[np.random.randint(1, len(reverse_target_word_index))]\n",
    "        if(sampled_token!='end'):\n",
    "            decoded_sentence += ' '+sampled_token\n",
    "\n",
    "            # Exit condition: either hit max length or find stop word.\n",
    "            if (sampled_token == 'end' or len(decoded_sentence.split()) >= (max_len_highlight-1)):\n",
    "                stop_condition = True\n",
    "\n",
    "        # Update the target sequence (of length 1).\n",
    "        target_seq = np.zeros((1,1))\n",
    "        target_seq[0, 0] = sampled_token_index\n",
    "\n",
    "        # Update internal states\n",
    "        e_h, e_c = h, c\n",
    "\n",
    "    return decoded_sentence"
   ]
  },
  {
   "cell_type": "markdown",
   "id": "6cf7c943",
   "metadata": {},
   "source": [
    "Function to convert interger sequence to word sequence for highlights."
   ]
  },
  {
   "cell_type": "code",
   "execution_count": 39,
   "id": "7f37be25",
   "metadata": {},
   "outputs": [],
   "source": [
    "def seq2highlights(input_seq):\n",
    "    newString=''\n",
    "    for i in input_seq:\n",
    "      if((i!=0 and i!=target_word_index['start']) and i!=target_word_index['end']):\n",
    "        newString=newString+reverse_target_word_index[i]+' '\n",
    "    return newString"
   ]
  },
  {
   "cell_type": "code",
   "execution_count": 41,
   "id": "5247e307",
   "metadata": {},
   "outputs": [
    {
     "name": "stdout",
     "output_type": "stream",
     "text": [
      "Highlights:\n",
      "\n",
      "\n",
      "Predicted summary:\n",
      " we propose a novel model for the health data we propose a novel model for the model of the model of the number of the number of the number of the number of the number of the number of the number of the number of the number of the\n",
      "\n",
      "\n",
      "\n",
      "\n",
      "Highlights:\n",
      "\n",
      "\n",
      "Predicted summary:\n",
      " we propose a new problem for the problem of the problem we propose a new problem for the problem of the problem we propose a new model for the problem of the problem we show the proposed approach to the new problem ggp cfd animals outofvocabulary multidea directions kirchhoff\n",
      "\n",
      "\n",
      "\n",
      "\n",
      "Highlights:\n",
      "\n",
      "\n",
      "Predicted summary:\n",
      " we propose a new model for the model of the model of the model of the model of the model of the model of the model of the model of the model of the model distinguishing evaporating accept 111000 lysmer pz ease analysts tam walking epidemiologic confirms rewritten central\n",
      "\n",
      "\n",
      "\n",
      "\n",
      "Highlights:\n",
      "\n",
      "\n",
      "Predicted summary:\n",
      " we propose a new problem for the problem of the problem we propose a new problem for the problem of the problem we propose a new problem for the problem of the problem we show the proposed approach to the new problem shadowed supplemental crfs disambiguation boosted autodesk mrf\n",
      "\n",
      "\n",
      "\n",
      "\n",
      "Highlights:\n",
      "\n",
      "\n",
      "Predicted summary:\n",
      " we propose a novel model for the model of the model of the model of the model of the model of the model of the model of the performance of the performance of the proposed method veoms misjudged programmed promise arabic 15 deviations automobile deltadelta uniting processed atannasovs sres\n",
      "\n",
      "\n",
      "\n",
      "\n",
      "Highlights:\n",
      "\n",
      "\n",
      "Predicted summary:\n",
      " we propose a novel model for the model of the model of the model of the model of the model of the model of the model of the performance of the proposed method is used to the proposed method jointly chromosomal lotsizing pyrimidine seedinginspired decomposable link enumerating asp expresses\n",
      "\n",
      "\n",
      "\n",
      "\n",
      "Highlights:\n",
      "\n",
      "\n",
      "Predicted summary:\n",
      " we propose a new model for the model of the model of the model of the model of the model of the model of the model of the model of the model converge frape hierarchies become lives automatically spreading hampered meanvariance iq unguided epilepsy postponement prepositioning ba rounded interaction\n",
      "\n",
      "\n",
      "\n",
      "\n",
      "Highlights:\n",
      "\n",
      "\n",
      "Predicted summary:\n",
      " we propose a novel model for the health of the health model we propose a novel model for the number of the binding of the binding of the binding of the binding of the binding of the binding of the binding model is used to be used to be\n",
      "\n",
      "\n",
      "\n",
      "\n",
      "Highlights:\n",
      "\n",
      "\n",
      "Predicted summary:\n",
      " we propose a new model for the model of the model of the model of the model of the model of the model of the model of the model of the proposed method is proposed to the proposed method complexes nonredundant coarsegrained residuals usability mbd abaqus incentives numerical classimbalanced\n",
      "\n",
      "\n",
      "\n",
      "\n",
      "Highlights:\n",
      "\n",
      "\n",
      "Predicted summary:\n",
      " we propose a novel model for the model of the model of the model of the model of the model of the model of the model of the performance of the performance of the proposed method patients fmeasure farash presents lex automating lens watermark attractiveness gpcrdrug detected ologdnlogn sublevel\n",
      "\n",
      "\n",
      "\n",
      "\n"
     ]
    }
   ],
   "source": [
    "reference = []\n",
    "hypothesis = []\n",
    "for i in range(10):\n",
    "  print(\"Highlights:\")\n",
    "  #print(seq2summary(y_test[i]))\n",
    "  reference.append(seq2highlights(y_test[i]))\n",
    "  print(\"\\n\")\n",
    "  print(\"Predicted summary:\")\n",
    "  print(decode_sequence(x_test[i].reshape(1,max_len_body)))\n",
    "  hypothesis.append(decode_sequence(x_test[i].reshape(1,max_len_body)))\n",
    "  print(\"\\n\")\n",
    "  print(\"\\n\")"
   ]
  },
  {
   "cell_type": "markdown",
   "id": "7798e5ff",
   "metadata": {},
   "source": [
    "## Calculating Rouge Scores"
   ]
  },
  {
   "cell_type": "code",
   "execution_count": 42,
   "id": "f7997b55",
   "metadata": {},
   "outputs": [
    {
     "name": "stdout",
     "output_type": "stream",
     "text": [
      "Requirement already satisfied: rouge in /Users/sana/.pyenv/versions/3.8.6/envs/lewagon/lib/python3.8/site-packages (1.0.1)\n",
      "Requirement already satisfied: six in /Users/sana/.pyenv/versions/3.8.6/envs/lewagon/lib/python3.8/site-packages (from rouge) (1.14.0)\n"
     ]
    }
   ],
   "source": [
    "! pip install rouge"
   ]
  },
  {
   "cell_type": "code",
   "execution_count": 43,
   "id": "adf8474a",
   "metadata": {},
   "outputs": [],
   "source": [
    "\n",
    "from rouge import Rouge\n"
   ]
  },
  {
   "cell_type": "code",
   "execution_count": 44,
   "id": "164a4b98",
   "metadata": {},
   "outputs": [],
   "source": [
    "\n",
    "score = Rouge()"
   ]
  },
  {
   "cell_type": "code",
   "execution_count": 45,
   "id": "5412a0df",
   "metadata": {},
   "outputs": [
    {
     "data": {
      "text/plain": [
       "{'rouge-1': {'r': 0.12351521683929426,\n",
       "  'p': 0.2090901116427432,\n",
       "  'f': 0.15309055254340953},\n",
       " 'rouge-2': {'r': 0.0232649476127737,\n",
       "  'p': 0.04382234432234432,\n",
       "  'f': 0.03031315692279345},\n",
       " 'rouge-l': {'r': 0.10470265520852776,\n",
       "  'p': 0.17769059011164273,\n",
       "  'f': 0.13006463998402845}}"
      ]
     },
     "execution_count": 45,
     "metadata": {},
     "output_type": "execute_result"
    }
   ],
   "source": [
    "score.get_scores(hypothesis, reference, avg = True)"
   ]
  },
  {
   "cell_type": "code",
   "execution_count": null,
   "id": "b3b52131",
   "metadata": {},
   "outputs": [],
   "source": []
  }
 ],
 "metadata": {
  "kernelspec": {
   "display_name": "Python 3 (ipykernel)",
   "language": "python",
   "name": "python3"
  },
  "language_info": {
   "codemirror_mode": {
    "name": "ipython",
    "version": 3
   },
   "file_extension": ".py",
   "mimetype": "text/x-python",
   "name": "python",
   "nbconvert_exporter": "python",
   "pygments_lexer": "ipython3",
   "version": "3.8.6"
  },
  "toc": {
   "base_numbering": 1,
   "nav_menu": {},
   "number_sections": true,
   "sideBar": true,
   "skip_h1_title": false,
   "title_cell": "Table of Contents",
   "title_sidebar": "Contents",
   "toc_cell": false,
   "toc_position": {},
   "toc_section_display": true,
   "toc_window_display": false
  }
 },
 "nbformat": 4,
 "nbformat_minor": 5
}
