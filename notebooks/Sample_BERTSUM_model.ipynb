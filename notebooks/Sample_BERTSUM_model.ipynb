{
 "cells": [
  {
   "cell_type": "markdown",
   "id": "deeb5b01",
   "metadata": {
    "heading_collapsed": true
   },
   "source": [
    "# Sample BERTSUM model\n",
    "\n",
    "**Create a sample BERTSUM model and play around to find out fine-tuning possibilities and limitations**\n",
    "\n",
    "**ROUGE is used as evaluation metrics of its performance**"
   ]
  },
  {
   "cell_type": "markdown",
   "id": "3c77d0c9",
   "metadata": {
    "heading_collapsed": true
   },
   "source": [
    "# 1. Souce\n",
    "\n",
    "## 1-1. original source\n",
    "\n",
    "**BERTSUM (BERT model fine-tuned for text summarization tasks)**\n",
    "- code: https://github.com/nlpyang/BertSum\n",
    "- text_1: [Yang Liu, 'Fine-tune BERT for Extractive Summarization,' 2019](https://arxiv.org/pdf/1903.10318.pdf)\n",
    "- text_2: [Yang Liu and Mirella Lapata, 'Text Summarization with Pretrained Encoder,' 2019](https://arxiv.org/abs/1908.08345)\n",
    "\n",
    "**ROUGE (Evaluation metrics for text summariization tasks)**\n",
    "- code: https://github.com/kavgan/ROUGE-2.0\n",
    "- text: [Chin-Yew Lin, 'ROUGE: A Package for Automatic Evaluation of Summaries,' 2004](https://aclanthology.org/W04-1013.pdf). \n",
    "\n",
    "## 1-2. references\n",
    "- [Hands-on Guide To Extractive Text Summarization With BERTSum](https://analyticsindiamag.com/hands-on-guide-to-extractive-text-summarization-with-bertsum/)\n",
    "- [Tutorial: How to Fine-Tune BERT for Extractive Summarization](https://skimai.com/tutorial-how-to-fine-tune-bert-for-summarization/)\n",
    "- [A Step by Step Guide to Working with ROUGE for Summary Evaluation](http://kavita-ganesan.com/rouge-howto/#.YYWQcb3MKDU)\n",
    "- [BERT (Wikipedia)](https://en.wikipedia.org/wiki/BERT_(language_model))\n",
    "- [ROUGE (Wikipedia)](https://en.wikipedia.org/wiki/ROUGE_(metric))"
   ]
  },
  {
   "cell_type": "markdown",
   "id": "f35e2c07",
   "metadata": {},
   "source": [
    "# 2 . Sample Code"
   ]
  },
  {
   "cell_type": "markdown",
   "id": "d72c4928",
   "metadata": {},
   "source": []
  },
  {
   "cell_type": "markdown",
   "id": "d800372d",
   "metadata": {
    "heading_collapsed": true
   },
   "source": [
    "# 3. Findings\n",
    "## 3-1. Fine-tuning possibilities\n",
    "## 3-2. Limitations"
   ]
  },
  {
   "cell_type": "code",
   "execution_count": null,
   "id": "0d20c40c",
   "metadata": {
    "hidden": true
   },
   "outputs": [],
   "source": []
  }
 ],
 "metadata": {
  "kernelspec": {
   "display_name": "Python 3 (ipykernel)",
   "language": "python",
   "name": "python3"
  },
  "language_info": {
   "codemirror_mode": {
    "name": "ipython",
    "version": 3
   },
   "file_extension": ".py",
   "mimetype": "text/x-python",
   "name": "python",
   "nbconvert_exporter": "python",
   "pygments_lexer": "ipython3",
   "version": "3.8.6"
  },
  "toc": {
   "base_numbering": 1,
   "nav_menu": {},
   "number_sections": false,
   "sideBar": true,
   "skip_h1_title": false,
   "title_cell": "Table of Contents",
   "title_sidebar": "Contents",
   "toc_cell": false,
   "toc_position": {},
   "toc_section_display": true,
   "toc_window_display": false
  }
 },
 "nbformat": 4,
 "nbformat_minor": 5
}
